{
  "nbformat": 4,
  "nbformat_minor": 0,
  "metadata": {
    "colab": {
      "name": "modeling.ipynb",
      "provenance": [],
      "collapsed_sections": [],
      "toc_visible": true
    },
    "kernelspec": {
      "name": "python3",
      "display_name": "Python 3"
    },
    "language_info": {
      "name": "python"
    }
  },
  "cells": [
    {
      "cell_type": "markdown",
      "metadata": {
        "id": "4m14l0PdYnpE"
      },
      "source": [
        "#Install Libraries and Load Data"
      ]
    },
    {
      "cell_type": "code",
      "metadata": {
        "colab": {
          "base_uri": "https://localhost:8080/"
        },
        "id": "EIzoyKHLTAry",
        "outputId": "be532425-326a-426f-ab64-cb1a90e9f640"
      },
      "source": [
        "from google.colab import drive\n",
        "drive.mount('/content/drive')"
      ],
      "execution_count": null,
      "outputs": [
        {
          "output_type": "stream",
          "text": [
            "Mounted at /content/drive\n"
          ],
          "name": "stdout"
        }
      ]
    },
    {
      "cell_type": "code",
      "metadata": {
        "colab": {
          "base_uri": "https://localhost:8080/"
        },
        "id": "rllNuPqPaOXz",
        "outputId": "fd81df7e-4858-4db2-e1c7-064405f78c5b"
      },
      "source": [
        "!pip install pyspark \n",
        "!pip install -U -q PyDrive"
      ],
      "execution_count": null,
      "outputs": [
        {
          "output_type": "stream",
          "text": [
            "Collecting pyspark\n",
            "\u001b[?25l  Downloading https://files.pythonhosted.org/packages/45/b0/9d6860891ab14a39d4bddf80ba26ce51c2f9dc4805e5c6978ac0472c120a/pyspark-3.1.1.tar.gz (212.3MB)\n",
            "\u001b[K     |████████████████████████████████| 212.3MB 69kB/s \n",
            "\u001b[?25hCollecting py4j==0.10.9\n",
            "\u001b[?25l  Downloading https://files.pythonhosted.org/packages/9e/b6/6a4fb90cd235dc8e265a6a2067f2a2c99f0d91787f06aca4bcf7c23f3f80/py4j-0.10.9-py2.py3-none-any.whl (198kB)\n",
            "\u001b[K     |████████████████████████████████| 204kB 40.7MB/s \n",
            "\u001b[?25hBuilding wheels for collected packages: pyspark\n",
            "  Building wheel for pyspark (setup.py) ... \u001b[?25l\u001b[?25hdone\n",
            "  Created wheel for pyspark: filename=pyspark-3.1.1-py2.py3-none-any.whl size=212767604 sha256=f5ebab69f73f022ad18593fc1d5ce793e44861be154b43f65b9cc71565600c2f\n",
            "  Stored in directory: /root/.cache/pip/wheels/0b/90/c0/01de724414ef122bd05f056541fb6a0ecf47c7ca655f8b3c0f\n",
            "Successfully built pyspark\n",
            "Installing collected packages: py4j, pyspark\n",
            "Successfully installed py4j-0.10.9 pyspark-3.1.1\n"
          ],
          "name": "stdout"
        }
      ]
    },
    {
      "cell_type": "code",
      "metadata": {
        "id": "fojW9NoMTKqn"
      },
      "source": [
        "import pandas as pd\n",
        "from pyspark.sql import SparkSession\n",
        "from pyspark.ml.feature import StringIndexer, VectorAssembler,OneHotEncoder, StandardScaler\n",
        "from pyspark.ml.linalg import Vectors\n",
        "from pyspark.ml import Pipeline\n",
        "from pyspark.ml.regression import RandomForestRegressor, GBTRegressor\n",
        "from pyspark.ml.evaluation import RegressionEvaluator\n",
        "from pyspark.ml.classification import RandomForestClassifier, GBTClassifier\n",
        "import numpy as np"
      ],
      "execution_count": null,
      "outputs": []
    },
    {
      "cell_type": "code",
      "metadata": {
        "colab": {
          "base_uri": "https://localhost:8080/"
        },
        "id": "357cf9zET8H0",
        "outputId": "435698b2-6c41-4f24-c999-92e00a701526"
      },
      "source": [
        "!apt update\n",
        "!apt install openjdk-8-jdk-headless -qq\n",
        "import os\n",
        "os.environ[\"JAVA_HOME\"] = \"/usr/lib/jvm/java-8-openjdk-amd64\""
      ],
      "execution_count": null,
      "outputs": [
        {
          "output_type": "stream",
          "text": [
            "\u001b[33m\r0% [Working]\u001b[0m\r            \rGet:1 http://security.ubuntu.com/ubuntu bionic-security InRelease [88.7 kB]\n",
            "\u001b[33m\r0% [Connecting to archive.ubuntu.com (91.189.88.152)] [1 InRelease 14.2 kB/88.7\u001b[0m\r                                                                               \rGet:2 https://cloud.r-project.org/bin/linux/ubuntu bionic-cran40/ InRelease [3,626 B]\n",
            "\u001b[33m\r0% [Connecting to archive.ubuntu.com (91.189.88.152)] [1 InRelease 43.1 kB/88.7\u001b[0m\u001b[33m\r0% [Connecting to archive.ubuntu.com (91.189.88.152)] [1 InRelease 88.7 kB/88.7\u001b[0m\u001b[33m\r0% [Connecting to archive.ubuntu.com (91.189.88.152)] [Connecting to ppa.launch\u001b[0m\u001b[33m\r0% [2 InRelease gpgv 3,626 B] [Connecting to archive.ubuntu.com (91.189.88.152)\u001b[0m\r                                                                               \rIgn:3 https://developer.download.nvidia.com/compute/cuda/repos/ubuntu1804/x86_64  InRelease\n",
            "\u001b[33m\r0% [2 InRelease gpgv 3,626 B] [Waiting for headers] [Waiting for headers] [Wait\u001b[0m\r                                                                               \rGet:4 http://ppa.launchpad.net/c2d4u.team/c2d4u4.0+/ubuntu bionic InRelease [15.9 kB]\n",
            "Hit:5 http://archive.ubuntu.com/ubuntu bionic InRelease\n",
            "Ign:6 https://developer.download.nvidia.com/compute/machine-learning/repos/ubuntu1804/x86_64  InRelease\n",
            "Get:7 https://developer.download.nvidia.com/compute/cuda/repos/ubuntu1804/x86_64  Release [697 B]\n",
            "Hit:8 https://developer.download.nvidia.com/compute/machine-learning/repos/ubuntu1804/x86_64  Release\n",
            "Get:9 https://developer.download.nvidia.com/compute/cuda/repos/ubuntu1804/x86_64  Release.gpg [836 B]\n",
            "Get:10 http://archive.ubuntu.com/ubuntu bionic-updates InRelease [88.7 kB]\n",
            "Get:11 https://cloud.r-project.org/bin/linux/ubuntu bionic-cran40/ Packages [53.9 kB]\n",
            "Hit:12 http://ppa.launchpad.net/cran/libgit2/ubuntu bionic InRelease\n",
            "Get:13 http://archive.ubuntu.com/ubuntu bionic-backports InRelease [74.6 kB]\n",
            "Get:14 http://ppa.launchpad.net/deadsnakes/ppa/ubuntu bionic InRelease [15.9 kB]\n",
            "Get:15 http://security.ubuntu.com/ubuntu bionic-security/multiverse amd64 Packages [24.7 kB]\n",
            "Get:16 http://security.ubuntu.com/ubuntu bionic-security/main amd64 Packages [2,119 kB]\n",
            "Get:17 http://security.ubuntu.com/ubuntu bionic-security/restricted amd64 Packages [399 kB]\n",
            "Get:18 http://security.ubuntu.com/ubuntu bionic-security/universe amd64 Packages [1,410 kB]\n",
            "Get:19 http://ppa.launchpad.net/graphics-drivers/ppa/ubuntu bionic InRelease [15.9 kB]\n",
            "Get:21 http://ppa.launchpad.net/c2d4u.team/c2d4u4.0+/ubuntu bionic/main Sources [1,759 kB]\n",
            "Ign:22 https://developer.download.nvidia.com/compute/cuda/repos/ubuntu1804/x86_64  Packages\n",
            "Get:22 https://developer.download.nvidia.com/compute/cuda/repos/ubuntu1804/x86_64  Packages [742 kB]\n",
            "Get:23 http://ppa.launchpad.net/c2d4u.team/c2d4u4.0+/ubuntu bionic/main amd64 Packages [900 kB]\n",
            "Get:24 http://archive.ubuntu.com/ubuntu bionic-updates/main amd64 Packages [2,550 kB]\n",
            "Get:25 http://archive.ubuntu.com/ubuntu bionic-updates/universe amd64 Packages [2,181 kB]\n",
            "Get:26 http://archive.ubuntu.com/ubuntu bionic-updates/multiverse amd64 Packages [31.6 kB]\n",
            "Get:27 http://archive.ubuntu.com/ubuntu bionic-updates/restricted amd64 Packages [429 kB]\n",
            "Get:28 http://ppa.launchpad.net/deadsnakes/ppa/ubuntu bionic/main amd64 Packages [40.3 kB]\n",
            "Get:29 http://ppa.launchpad.net/graphics-drivers/ppa/ubuntu bionic/main amd64 Packages [53.2 kB]\n",
            "Fetched 13.0 MB in 4s (3,594 kB/s)\n",
            "Reading package lists... Done\n",
            "Building dependency tree       \n",
            "Reading state information... Done\n",
            "85 packages can be upgraded. Run 'apt list --upgradable' to see them.\n",
            "The following package was automatically installed and is no longer required:\n",
            "  libnvidia-common-460\n",
            "Use 'apt autoremove' to remove it.\n",
            "The following additional packages will be installed:\n",
            "  openjdk-8-jre-headless\n",
            "Suggested packages:\n",
            "  openjdk-8-demo openjdk-8-source libnss-mdns fonts-dejavu-extra\n",
            "  fonts-ipafont-gothic fonts-ipafont-mincho fonts-wqy-microhei\n",
            "  fonts-wqy-zenhei fonts-indic\n",
            "The following NEW packages will be installed:\n",
            "  openjdk-8-jdk-headless openjdk-8-jre-headless\n",
            "0 upgraded, 2 newly installed, 0 to remove and 85 not upgraded.\n",
            "Need to get 36.5 MB of archives.\n",
            "After this operation, 143 MB of additional disk space will be used.\n",
            "Selecting previously unselected package openjdk-8-jre-headless:amd64.\n",
            "(Reading database ... 160690 files and directories currently installed.)\n",
            "Preparing to unpack .../openjdk-8-jre-headless_8u292-b10-0ubuntu1~18.04_amd64.deb ...\n",
            "Unpacking openjdk-8-jre-headless:amd64 (8u292-b10-0ubuntu1~18.04) ...\n",
            "Selecting previously unselected package openjdk-8-jdk-headless:amd64.\n",
            "Preparing to unpack .../openjdk-8-jdk-headless_8u292-b10-0ubuntu1~18.04_amd64.deb ...\n",
            "Unpacking openjdk-8-jdk-headless:amd64 (8u292-b10-0ubuntu1~18.04) ...\n",
            "Setting up openjdk-8-jre-headless:amd64 (8u292-b10-0ubuntu1~18.04) ...\n",
            "update-alternatives: using /usr/lib/jvm/java-8-openjdk-amd64/jre/bin/orbd to provide /usr/bin/orbd (orbd) in auto mode\n",
            "update-alternatives: using /usr/lib/jvm/java-8-openjdk-amd64/jre/bin/servertool to provide /usr/bin/servertool (servertool) in auto mode\n",
            "update-alternatives: using /usr/lib/jvm/java-8-openjdk-amd64/jre/bin/tnameserv to provide /usr/bin/tnameserv (tnameserv) in auto mode\n",
            "Setting up openjdk-8-jdk-headless:amd64 (8u292-b10-0ubuntu1~18.04) ...\n",
            "update-alternatives: using /usr/lib/jvm/java-8-openjdk-amd64/bin/idlj to provide /usr/bin/idlj (idlj) in auto mode\n",
            "update-alternatives: using /usr/lib/jvm/java-8-openjdk-amd64/bin/wsimport to provide /usr/bin/wsimport (wsimport) in auto mode\n",
            "update-alternatives: using /usr/lib/jvm/java-8-openjdk-amd64/bin/jsadebugd to provide /usr/bin/jsadebugd (jsadebugd) in auto mode\n",
            "update-alternatives: using /usr/lib/jvm/java-8-openjdk-amd64/bin/native2ascii to provide /usr/bin/native2ascii (native2ascii) in auto mode\n",
            "update-alternatives: using /usr/lib/jvm/java-8-openjdk-amd64/bin/javah to provide /usr/bin/javah (javah) in auto mode\n",
            "update-alternatives: using /usr/lib/jvm/java-8-openjdk-amd64/bin/hsdb to provide /usr/bin/hsdb (hsdb) in auto mode\n",
            "update-alternatives: using /usr/lib/jvm/java-8-openjdk-amd64/bin/clhsdb to provide /usr/bin/clhsdb (clhsdb) in auto mode\n",
            "update-alternatives: using /usr/lib/jvm/java-8-openjdk-amd64/bin/extcheck to provide /usr/bin/extcheck (extcheck) in auto mode\n",
            "update-alternatives: using /usr/lib/jvm/java-8-openjdk-amd64/bin/schemagen to provide /usr/bin/schemagen (schemagen) in auto mode\n",
            "update-alternatives: using /usr/lib/jvm/java-8-openjdk-amd64/bin/xjc to provide /usr/bin/xjc (xjc) in auto mode\n",
            "update-alternatives: using /usr/lib/jvm/java-8-openjdk-amd64/bin/jhat to provide /usr/bin/jhat (jhat) in auto mode\n",
            "update-alternatives: using /usr/lib/jvm/java-8-openjdk-amd64/bin/wsgen to provide /usr/bin/wsgen (wsgen) in auto mode\n"
          ],
          "name": "stdout"
        }
      ]
    },
    {
      "cell_type": "code",
      "metadata": {
        "id": "Bf0OHACBajIF"
      },
      "source": [
        "spark = SparkSession.builder.appName('modeling').getOrCreate()"
      ],
      "execution_count": null,
      "outputs": []
    },
    {
      "cell_type": "code",
      "metadata": {
        "id": "VvkKND_gTXtL"
      },
      "source": [
        "cur_path = '/content/drive/MyDrive/Colab Notebooks/ds5460/final_project/'"
      ],
      "execution_count": null,
      "outputs": []
    },
    {
      "cell_type": "code",
      "metadata": {
        "colab": {
          "base_uri": "https://localhost:8080/",
          "height": 355
        },
        "id": "HWCnw08mTbIj",
        "outputId": "af8bd3fa-525d-4b70-d5e7-1155664475de"
      },
      "source": [
        "shots_all=pd.read_csv(cur_path+'less_than_two (1).csv')\n",
        "shots_all.head()"
      ],
      "execution_count": null,
      "outputs": [
        {
          "output_type": "execute_result",
          "data": {
            "text/html": [
              "<div>\n",
              "<style scoped>\n",
              "    .dataframe tbody tr th:only-of-type {\n",
              "        vertical-align: middle;\n",
              "    }\n",
              "\n",
              "    .dataframe tbody tr th {\n",
              "        vertical-align: top;\n",
              "    }\n",
              "\n",
              "    .dataframe thead th {\n",
              "        text-align: right;\n",
              "    }\n",
              "</style>\n",
              "<table border=\"1\" class=\"dataframe\">\n",
              "  <thead>\n",
              "    <tr style=\"text-align: right;\">\n",
              "      <th></th>\n",
              "      <th>points</th>\n",
              "      <th>shooter_to_hoop</th>\n",
              "      <th>nearest_def_dist</th>\n",
              "      <th>def_angle</th>\n",
              "      <th>shot_type_num</th>\n",
              "      <th>ball_to_shooter</th>\n",
              "      <th>shooter_id</th>\n",
              "      <th>shooter_x_loc</th>\n",
              "      <th>shooter_y_loc</th>\n",
              "      <th>shot_team_id</th>\n",
              "      <th>ball_x_loc</th>\n",
              "      <th>ball_y_loc</th>\n",
              "      <th>game_id</th>\n",
              "      <th>quarter</th>\n",
              "      <th>game_clock</th>\n",
              "      <th>q_game_clock</th>\n",
              "      <th>join_clock</th>\n",
              "      <th>ball_id</th>\n",
              "      <th>ball_team_id</th>\n",
              "      <th>p1_id</th>\n",
              "      <th>p1_team_id</th>\n",
              "      <th>p1_x_loc</th>\n",
              "      <th>p1_y_loc</th>\n",
              "      <th>p2_id</th>\n",
              "      <th>p2_team_id</th>\n",
              "      <th>p2_x_loc</th>\n",
              "      <th>p2_y_loc</th>\n",
              "      <th>p3_id</th>\n",
              "      <th>p3_team_id</th>\n",
              "      <th>p3_x_loc</th>\n",
              "      <th>p3_y_loc</th>\n",
              "      <th>p4_id</th>\n",
              "      <th>p4_team_id</th>\n",
              "      <th>p4_x_loc</th>\n",
              "      <th>p4_y_loc</th>\n",
              "      <th>p5_id</th>\n",
              "      <th>p5_team_id</th>\n",
              "      <th>p5_x_loc</th>\n",
              "      <th>p5_y_loc</th>\n",
              "      <th>p6_id</th>\n",
              "      <th>...</th>\n",
              "      <th>shot_distance</th>\n",
              "      <th>action_type</th>\n",
              "      <th>eventtime</th>\n",
              "      <th>event_type</th>\n",
              "      <th>game_date</th>\n",
              "      <th>htm</th>\n",
              "      <th>loc_x</th>\n",
              "      <th>loc_y</th>\n",
              "      <th>minutes_remaining</th>\n",
              "      <th>period</th>\n",
              "      <th>player_name</th>\n",
              "      <th>seconds_remaining</th>\n",
              "      <th>shot_made_flag</th>\n",
              "      <th>shot_time</th>\n",
              "      <th>shot_type</th>\n",
              "      <th>shot_zone_area</th>\n",
              "      <th>shot_zone_basic</th>\n",
              "      <th>shot_zone_range</th>\n",
              "      <th>team_name</th>\n",
              "      <th>vtm</th>\n",
              "      <th>q_event_clock</th>\n",
              "      <th>name</th>\n",
              "      <th>p1_dist_from_ball</th>\n",
              "      <th>p2_dist_from_ball</th>\n",
              "      <th>p3_dist_from_ball</th>\n",
              "      <th>p4_dist_from_ball</th>\n",
              "      <th>p5_dist_from_ball</th>\n",
              "      <th>p6_dist_from_ball</th>\n",
              "      <th>p7_dist_from_ball</th>\n",
              "      <th>p8_dist_from_ball</th>\n",
              "      <th>p9_dist_from_ball</th>\n",
              "      <th>p10_dist_from_ball</th>\n",
              "      <th>p_id_nearest_def</th>\n",
              "      <th>nearest_def_x_loc</th>\n",
              "      <th>nearest_def_y_loc</th>\n",
              "      <th>rim_jump</th>\n",
              "      <th>made_missed</th>\n",
              "      <th>n</th>\n",
              "      <th>pps</th>\n",
              "      <th>points_class</th>\n",
              "    </tr>\n",
              "  </thead>\n",
              "  <tbody>\n",
              "    <tr>\n",
              "      <th>0</th>\n",
              "      <td>0</td>\n",
              "      <td>22.468207</td>\n",
              "      <td>13.670831</td>\n",
              "      <td>20.976720</td>\n",
              "      <td>3</td>\n",
              "      <td>1.999961</td>\n",
              "      <td>202339</td>\n",
              "      <td>3.95743</td>\n",
              "      <td>47.42501</td>\n",
              "      <td>1610612756</td>\n",
              "      <td>3.80772</td>\n",
              "      <td>45.43066</td>\n",
              "      <td>21500126</td>\n",
              "      <td>1</td>\n",
              "      <td>319.57</td>\n",
              "      <td>1319.57</td>\n",
              "      <td>215001261319</td>\n",
              "      <td>-1</td>\n",
              "      <td>-1</td>\n",
              "      <td>2199</td>\n",
              "      <td>1610612756</td>\n",
              "      <td>11.25299</td>\n",
              "      <td>24.40340</td>\n",
              "      <td>200782</td>\n",
              "      <td>1610612756</td>\n",
              "      <td>0.79363</td>\n",
              "      <td>33.96164</td>\n",
              "      <td>202720</td>\n",
              "      <td>1610612756</td>\n",
              "      <td>22.83004</td>\n",
              "      <td>8.76367</td>\n",
              "      <td>202339</td>\n",
              "      <td>1610612756</td>\n",
              "      <td>3.95743</td>\n",
              "      <td>47.42501</td>\n",
              "      <td>202688</td>\n",
              "      <td>1610612756</td>\n",
              "      <td>31.85114</td>\n",
              "      <td>32.19025</td>\n",
              "      <td>1718</td>\n",
              "      <td>...</td>\n",
              "      <td>24</td>\n",
              "      <td>Jump Shot</td>\n",
              "      <td>317</td>\n",
              "      <td>Missed Shot</td>\n",
              "      <td>20151112</td>\n",
              "      <td>PHX</td>\n",
              "      <td>214.6311</td>\n",
              "      <td>16.9240</td>\n",
              "      <td>5</td>\n",
              "      <td>1</td>\n",
              "      <td>Eric Bledsoe</td>\n",
              "      <td>17</td>\n",
              "      <td>0</td>\n",
              "      <td>313.33</td>\n",
              "      <td>3PT Field Goal</td>\n",
              "      <td>Left Side(L)</td>\n",
              "      <td>Left Corner 3</td>\n",
              "      <td>24+ ft.</td>\n",
              "      <td>Phoenix Suns</td>\n",
              "      <td>LAC</td>\n",
              "      <td>1317</td>\n",
              "      <td>join_clock_2</td>\n",
              "      <td>22.306450</td>\n",
              "      <td>11.858464</td>\n",
              "      <td>41.307588</td>\n",
              "      <td>1.999961</td>\n",
              "      <td>31.011963</td>\n",
              "      <td>16.872173</td>\n",
              "      <td>29.104928</td>\n",
              "      <td>19.166025</td>\n",
              "      <td>19.676466</td>\n",
              "      <td>11.957578</td>\n",
              "      <td>203085</td>\n",
              "      <td>9.63318</td>\n",
              "      <td>34.98807</td>\n",
              "      <td>jump</td>\n",
              "      <td>0</td>\n",
              "      <td>261</td>\n",
              "      <td>1.015326</td>\n",
              "      <td>0</td>\n",
              "    </tr>\n",
              "    <tr>\n",
              "      <th>1</th>\n",
              "      <td>0</td>\n",
              "      <td>7.655767</td>\n",
              "      <td>2.048083</td>\n",
              "      <td>38.634526</td>\n",
              "      <td>2</td>\n",
              "      <td>1.999786</td>\n",
              "      <td>202355</td>\n",
              "      <td>84.55219</td>\n",
              "      <td>31.46674</td>\n",
              "      <td>1610612748</td>\n",
              "      <td>85.88137</td>\n",
              "      <td>32.96087</td>\n",
              "      <td>21500108</td>\n",
              "      <td>2</td>\n",
              "      <td>118.52</td>\n",
              "      <td>2118.52</td>\n",
              "      <td>215001082118</td>\n",
              "      <td>-1</td>\n",
              "      <td>-1</td>\n",
              "      <td>2548</td>\n",
              "      <td>1610612748</td>\n",
              "      <td>71.51432</td>\n",
              "      <td>5.92099</td>\n",
              "      <td>2547</td>\n",
              "      <td>1610612748</td>\n",
              "      <td>86.29922</td>\n",
              "      <td>17.12225</td>\n",
              "      <td>2736</td>\n",
              "      <td>1610612748</td>\n",
              "      <td>93.95483</td>\n",
              "      <td>15.90106</td>\n",
              "      <td>201609</td>\n",
              "      <td>1610612748</td>\n",
              "      <td>64.16046</td>\n",
              "      <td>20.55708</td>\n",
              "      <td>202355</td>\n",
              "      <td>1610612748</td>\n",
              "      <td>84.55219</td>\n",
              "      <td>31.46674</td>\n",
              "      <td>1897</td>\n",
              "      <td>...</td>\n",
              "      <td>10</td>\n",
              "      <td>Turnaround Hook Shot</td>\n",
              "      <td>115</td>\n",
              "      <td>Missed Shot</td>\n",
              "      <td>20151110</td>\n",
              "      <td>MIA</td>\n",
              "      <td>80.5067</td>\n",
              "      <td>32.7000</td>\n",
              "      <td>1</td>\n",
              "      <td>2</td>\n",
              "      <td>Hassan Whiteside</td>\n",
              "      <td>55</td>\n",
              "      <td>0</td>\n",
              "      <td>118.36</td>\n",
              "      <td>2PT Field Goal</td>\n",
              "      <td>Right Side(R)</td>\n",
              "      <td>Mid-Range</td>\n",
              "      <td>8-16 ft.</td>\n",
              "      <td>Miami Heat</td>\n",
              "      <td>LAL</td>\n",
              "      <td>2115</td>\n",
              "      <td>join_clock_3</td>\n",
              "      <td>30.619720</td>\n",
              "      <td>15.844131</td>\n",
              "      <td>18.873735</td>\n",
              "      <td>25.013035</td>\n",
              "      <td>1.999786</td>\n",
              "      <td>15.003752</td>\n",
              "      <td>3.856457</td>\n",
              "      <td>19.202419</td>\n",
              "      <td>13.437261</td>\n",
              "      <td>11.481929</td>\n",
              "      <td>201579</td>\n",
              "      <td>84.32840</td>\n",
              "      <td>29.43092</td>\n",
              "      <td>jump</td>\n",
              "      <td>0</td>\n",
              "      <td>132</td>\n",
              "      <td>1.242424</td>\n",
              "      <td>0</td>\n",
              "    </tr>\n",
              "    <tr>\n",
              "      <th>2</th>\n",
              "      <td>2</td>\n",
              "      <td>3.700749</td>\n",
              "      <td>3.308324</td>\n",
              "      <td>96.629732</td>\n",
              "      <td>2</td>\n",
              "      <td>1.999475</td>\n",
              "      <td>203083</td>\n",
              "      <td>3.97201</td>\n",
              "      <td>28.43463</td>\n",
              "      <td>1610612765</td>\n",
              "      <td>5.23332</td>\n",
              "      <td>26.88318</td>\n",
              "      <td>21500254</td>\n",
              "      <td>3</td>\n",
              "      <td>626.94</td>\n",
              "      <td>3626.94</td>\n",
              "      <td>215002543626</td>\n",
              "      <td>-1</td>\n",
              "      <td>-1</td>\n",
              "      <td>101141</td>\n",
              "      <td>1610612765</td>\n",
              "      <td>13.42934</td>\n",
              "      <td>19.60519</td>\n",
              "      <td>202704</td>\n",
              "      <td>1610612765</td>\n",
              "      <td>31.96240</td>\n",
              "      <td>24.61587</td>\n",
              "      <td>202694</td>\n",
              "      <td>1610612765</td>\n",
              "      <td>10.69953</td>\n",
              "      <td>2.47405</td>\n",
              "      <td>203484</td>\n",
              "      <td>1610612765</td>\n",
              "      <td>23.16231</td>\n",
              "      <td>5.45276</td>\n",
              "      <td>203083</td>\n",
              "      <td>1610612765</td>\n",
              "      <td>3.97201</td>\n",
              "      <td>28.43463</td>\n",
              "      <td>2772</td>\n",
              "      <td>...</td>\n",
              "      <td>0</td>\n",
              "      <td>Driving Layup Shot</td>\n",
              "      <td>623</td>\n",
              "      <td>Made Shot</td>\n",
              "      <td>20151130</td>\n",
              "      <td>DET</td>\n",
              "      <td>-11.3915</td>\n",
              "      <td>65.6829</td>\n",
              "      <td>10</td>\n",
              "      <td>3</td>\n",
              "      <td>Andre Drummond</td>\n",
              "      <td>23</td>\n",
              "      <td>1</td>\n",
              "      <td>640.00</td>\n",
              "      <td>2PT Field Goal</td>\n",
              "      <td>Center(C)</td>\n",
              "      <td>Restricted Area</td>\n",
              "      <td>Less Than 8 ft.</td>\n",
              "      <td>Detroit Pistons</td>\n",
              "      <td>HOU</td>\n",
              "      <td>3623</td>\n",
              "      <td>join_clock_3</td>\n",
              "      <td>10.961016</td>\n",
              "      <td>26.825071</td>\n",
              "      <td>25.013698</td>\n",
              "      <td>27.941217</td>\n",
              "      <td>1.999475</td>\n",
              "      <td>12.793319</td>\n",
              "      <td>9.548265</td>\n",
              "      <td>13.692735</td>\n",
              "      <td>7.969406</td>\n",
              "      <td>3.536200</td>\n",
              "      <td>203991</td>\n",
              "      <td>6.87968</td>\n",
              "      <td>30.01275</td>\n",
              "      <td>rim</td>\n",
              "      <td>1</td>\n",
              "      <td>223</td>\n",
              "      <td>1.004484</td>\n",
              "      <td>2</td>\n",
              "    </tr>\n",
              "    <tr>\n",
              "      <th>3</th>\n",
              "      <td>2</td>\n",
              "      <td>3.319835</td>\n",
              "      <td>2.592761</td>\n",
              "      <td>89.052650</td>\n",
              "      <td>2</td>\n",
              "      <td>1.999375</td>\n",
              "      <td>203944</td>\n",
              "      <td>7.88176</td>\n",
              "      <td>22.85256</td>\n",
              "      <td>1610612747</td>\n",
              "      <td>7.99805</td>\n",
              "      <td>24.84855</td>\n",
              "      <td>21500349</td>\n",
              "      <td>4</td>\n",
              "      <td>479.87</td>\n",
              "      <td>4479.87</td>\n",
              "      <td>215003494479</td>\n",
              "      <td>-1</td>\n",
              "      <td>-1</td>\n",
              "      <td>2772</td>\n",
              "      <td>1610612745</td>\n",
              "      <td>10.23175</td>\n",
              "      <td>32.11919</td>\n",
              "      <td>2730</td>\n",
              "      <td>1610612745</td>\n",
              "      <td>5.41683</td>\n",
              "      <td>26.15216</td>\n",
              "      <td>201976</td>\n",
              "      <td>1610612745</td>\n",
              "      <td>18.27971</td>\n",
              "      <td>14.80232</td>\n",
              "      <td>201935</td>\n",
              "      <td>1610612745</td>\n",
              "      <td>10.11215</td>\n",
              "      <td>13.65609</td>\n",
              "      <td>202700</td>\n",
              "      <td>1610612745</td>\n",
              "      <td>9.52597</td>\n",
              "      <td>24.85730</td>\n",
              "      <td>201156</td>\n",
              "      <td>...</td>\n",
              "      <td>0</td>\n",
              "      <td>Driving Layup Shot</td>\n",
              "      <td>479</td>\n",
              "      <td>Made Shot</td>\n",
              "      <td>20151212</td>\n",
              "      <td>HOU</td>\n",
              "      <td>70.4187</td>\n",
              "      <td>21.8644</td>\n",
              "      <td>7</td>\n",
              "      <td>4</td>\n",
              "      <td>Julius Randle</td>\n",
              "      <td>59</td>\n",
              "      <td>1</td>\n",
              "      <td>465.45</td>\n",
              "      <td>2PT Field Goal</td>\n",
              "      <td>Center(C)</td>\n",
              "      <td>Restricted Area</td>\n",
              "      <td>Less Than 8 ft.</td>\n",
              "      <td>Los Angeles Lakers</td>\n",
              "      <td>LAL</td>\n",
              "      <td>4479</td>\n",
              "      <td>join_clock_0</td>\n",
              "      <td>7.606025</td>\n",
              "      <td>2.891729</td>\n",
              "      <td>14.374953</td>\n",
              "      <td>11.390372</td>\n",
              "      <td>1.527945</td>\n",
              "      <td>22.837639</td>\n",
              "      <td>0.591538</td>\n",
              "      <td>23.601283</td>\n",
              "      <td>1.999375</td>\n",
              "      <td>25.125611</td>\n",
              "      <td>202700</td>\n",
              "      <td>9.52597</td>\n",
              "      <td>24.85730</td>\n",
              "      <td>rim</td>\n",
              "      <td>1</td>\n",
              "      <td>150</td>\n",
              "      <td>0.826667</td>\n",
              "      <td>2</td>\n",
              "    </tr>\n",
              "    <tr>\n",
              "      <th>4</th>\n",
              "      <td>2</td>\n",
              "      <td>8.037922</td>\n",
              "      <td>4.667564</td>\n",
              "      <td>86.547362</td>\n",
              "      <td>2</td>\n",
              "      <td>1.999330</td>\n",
              "      <td>202328</td>\n",
              "      <td>11.92038</td>\n",
              "      <td>29.63015</td>\n",
              "      <td>1610612749</td>\n",
              "      <td>12.59496</td>\n",
              "      <td>27.74806</td>\n",
              "      <td>21500285</td>\n",
              "      <td>1</td>\n",
              "      <td>240.37</td>\n",
              "      <td>1240.37</td>\n",
              "      <td>215002851240</td>\n",
              "      <td>-1</td>\n",
              "      <td>-1</td>\n",
              "      <td>101141</td>\n",
              "      <td>1610612765</td>\n",
              "      <td>25.21203</td>\n",
              "      <td>21.78682</td>\n",
              "      <td>202704</td>\n",
              "      <td>1610612765</td>\n",
              "      <td>14.37442</td>\n",
              "      <td>25.65978</td>\n",
              "      <td>203484</td>\n",
              "      <td>1610612765</td>\n",
              "      <td>8.65706</td>\n",
              "      <td>13.33479</td>\n",
              "      <td>203083</td>\n",
              "      <td>1610612765</td>\n",
              "      <td>9.48749</td>\n",
              "      <td>27.81590</td>\n",
              "      <td>1626169</td>\n",
              "      <td>1610612765</td>\n",
              "      <td>9.60408</td>\n",
              "      <td>39.84053</td>\n",
              "      <td>201564</td>\n",
              "      <td>...</td>\n",
              "      <td>6</td>\n",
              "      <td>Hook Shot</td>\n",
              "      <td>236</td>\n",
              "      <td>Made Shot</td>\n",
              "      <td>20151204</td>\n",
              "      <td>DET</td>\n",
              "      <td>-183.0173</td>\n",
              "      <td>156.8817</td>\n",
              "      <td>3</td>\n",
              "      <td>1</td>\n",
              "      <td>Greg Monroe</td>\n",
              "      <td>56</td>\n",
              "      <td>1</td>\n",
              "      <td>250.89</td>\n",
              "      <td>2PT Field Goal</td>\n",
              "      <td>Center(C)</td>\n",
              "      <td>In The Paint (Non-RA)</td>\n",
              "      <td>Less Than 8 ft.</td>\n",
              "      <td>Milwaukee Bucks</td>\n",
              "      <td>MIL</td>\n",
              "      <td>1236</td>\n",
              "      <td>join_clock_4</td>\n",
              "      <td>13.954456</td>\n",
              "      <td>2.743609</td>\n",
              "      <td>14.941533</td>\n",
              "      <td>3.108210</td>\n",
              "      <td>12.456853</td>\n",
              "      <td>27.647770</td>\n",
              "      <td>1.999330</td>\n",
              "      <td>22.116480</td>\n",
              "      <td>8.448041</td>\n",
              "      <td>18.630734</td>\n",
              "      <td>202704</td>\n",
              "      <td>14.37442</td>\n",
              "      <td>25.65978</td>\n",
              "      <td>jump</td>\n",
              "      <td>1</td>\n",
              "      <td>204</td>\n",
              "      <td>1.117647</td>\n",
              "      <td>2</td>\n",
              "    </tr>\n",
              "  </tbody>\n",
              "</table>\n",
              "<p>5 rows × 100 columns</p>\n",
              "</div>"
            ],
            "text/plain": [
              "   points  shooter_to_hoop  nearest_def_dist  ...    n       pps  points_class\n",
              "0       0        22.468207         13.670831  ...  261  1.015326             0\n",
              "1       0         7.655767          2.048083  ...  132  1.242424             0\n",
              "2       2         3.700749          3.308324  ...  223  1.004484             2\n",
              "3       2         3.319835          2.592761  ...  150  0.826667             2\n",
              "4       2         8.037922          4.667564  ...  204  1.117647             2\n",
              "\n",
              "[5 rows x 100 columns]"
            ]
          },
          "metadata": {
            "tags": []
          },
          "execution_count": 96
        }
      ]
    },
    {
      "cell_type": "markdown",
      "metadata": {
        "id": "6_T4n4U0YvEk"
      },
      "source": [
        "#Feature Selection/Engineering"
      ]
    },
    {
      "cell_type": "code",
      "metadata": {
        "colab": {
          "base_uri": "https://localhost:8080/"
        },
        "id": "nJAUh5qWThdF",
        "outputId": "bb3c551e-b465-4b26-91ce-b15d1725e1b7"
      },
      "source": [
        "shots_all.columns"
      ],
      "execution_count": null,
      "outputs": [
        {
          "output_type": "execute_result",
          "data": {
            "text/plain": [
              "Index(['points', 'shooter_to_hoop', 'nearest_def_dist', 'def_angle',\n",
              "       'shot_type_num', 'ball_to_shooter', 'shooter_id', 'shooter_x_loc',\n",
              "       'shooter_y_loc', 'shot_team_id', 'ball_x_loc', 'ball_y_loc', 'game_id',\n",
              "       'quarter', 'game_clock', 'q_game_clock', 'join_clock', 'ball_id',\n",
              "       'ball_team_id', 'p1_id', 'p1_team_id', 'p1_x_loc', 'p1_y_loc', 'p2_id',\n",
              "       'p2_team_id', 'p2_x_loc', 'p2_y_loc', 'p3_id', 'p3_team_id', 'p3_x_loc',\n",
              "       'p3_y_loc', 'p4_id', 'p4_team_id', 'p4_x_loc', 'p4_y_loc', 'p5_id',\n",
              "       'p5_team_id', 'p5_x_loc', 'p5_y_loc', 'p6_id', 'p6_team_id', 'p6_x_loc',\n",
              "       'p6_y_loc', 'p7_id', 'p7_team_id', 'p7_x_loc', 'p7_y_loc', 'p8_id',\n",
              "       'p8_team_id', 'p8_x_loc', 'p8_y_loc', 'p9_id', 'p9_team_id', 'p9_x_loc',\n",
              "       'p9_y_loc', 'p10_id', 'p10_team_id', 'p10_x_loc', 'p10_y_loc',\n",
              "       'event_id', 'shot_distance', 'action_type', 'eventtime', 'event_type',\n",
              "       'game_date', 'htm', 'loc_x', 'loc_y', 'minutes_remaining', 'period',\n",
              "       'player_name', 'seconds_remaining', 'shot_made_flag', 'shot_time',\n",
              "       'shot_type', 'shot_zone_area', 'shot_zone_basic', 'shot_zone_range',\n",
              "       'team_name', 'vtm', 'q_event_clock', 'name', 'p1_dist_from_ball',\n",
              "       'p2_dist_from_ball', 'p3_dist_from_ball', 'p4_dist_from_ball',\n",
              "       'p5_dist_from_ball', 'p6_dist_from_ball', 'p7_dist_from_ball',\n",
              "       'p8_dist_from_ball', 'p9_dist_from_ball', 'p10_dist_from_ball',\n",
              "       'p_id_nearest_def', 'nearest_def_x_loc', 'nearest_def_y_loc',\n",
              "       'rim_jump', 'made_missed', 'n', 'pps', 'points_class'],\n",
              "      dtype='object')"
            ]
          },
          "metadata": {
            "tags": []
          },
          "execution_count": 97
        }
      ]
    },
    {
      "cell_type": "code",
      "metadata": {
        "id": "PuyvknBjTvOE"
      },
      "source": [
        "keep_columns = ['points', 'shooter_to_hoop', 'nearest_def_dist', 'def_angle', 'shot_type_num', 'action_type', 'shot_made_flag', 'shot_zone_area', 'shot_zone_basic', 'p1_dist_from_ball', 'p2_dist_from_ball',\n",
        "                'p3_dist_from_ball', 'p4_dist_from_ball', 'p5_dist_from_ball', 'p6_dist_from_ball', 'p7_dist_from_ball','p8_dist_from_ball',\n",
        "                'p9_dist_from_ball', 'p10_dist_from_ball', 'rim_jump', 'pps']"
      ],
      "execution_count": null,
      "outputs": []
    },
    {
      "cell_type": "code",
      "metadata": {
        "colab": {
          "base_uri": "https://localhost:8080/",
          "height": 292
        },
        "id": "zgsuVxsoU8Fh",
        "outputId": "a572d549-4be9-46fa-90df-70dad88b51bf"
      },
      "source": [
        "final_df=shots_all[keep_columns]\n",
        "final_df.head()"
      ],
      "execution_count": null,
      "outputs": [
        {
          "output_type": "execute_result",
          "data": {
            "text/html": [
              "<div>\n",
              "<style scoped>\n",
              "    .dataframe tbody tr th:only-of-type {\n",
              "        vertical-align: middle;\n",
              "    }\n",
              "\n",
              "    .dataframe tbody tr th {\n",
              "        vertical-align: top;\n",
              "    }\n",
              "\n",
              "    .dataframe thead th {\n",
              "        text-align: right;\n",
              "    }\n",
              "</style>\n",
              "<table border=\"1\" class=\"dataframe\">\n",
              "  <thead>\n",
              "    <tr style=\"text-align: right;\">\n",
              "      <th></th>\n",
              "      <th>points</th>\n",
              "      <th>shooter_to_hoop</th>\n",
              "      <th>nearest_def_dist</th>\n",
              "      <th>def_angle</th>\n",
              "      <th>shot_type_num</th>\n",
              "      <th>action_type</th>\n",
              "      <th>shot_made_flag</th>\n",
              "      <th>shot_zone_area</th>\n",
              "      <th>shot_zone_basic</th>\n",
              "      <th>p1_dist_from_ball</th>\n",
              "      <th>p2_dist_from_ball</th>\n",
              "      <th>p3_dist_from_ball</th>\n",
              "      <th>p4_dist_from_ball</th>\n",
              "      <th>p5_dist_from_ball</th>\n",
              "      <th>p6_dist_from_ball</th>\n",
              "      <th>p7_dist_from_ball</th>\n",
              "      <th>p8_dist_from_ball</th>\n",
              "      <th>p9_dist_from_ball</th>\n",
              "      <th>p10_dist_from_ball</th>\n",
              "      <th>rim_jump</th>\n",
              "      <th>pps</th>\n",
              "    </tr>\n",
              "  </thead>\n",
              "  <tbody>\n",
              "    <tr>\n",
              "      <th>0</th>\n",
              "      <td>0</td>\n",
              "      <td>22.468207</td>\n",
              "      <td>13.670831</td>\n",
              "      <td>20.976720</td>\n",
              "      <td>3</td>\n",
              "      <td>Jump Shot</td>\n",
              "      <td>0</td>\n",
              "      <td>Left Side(L)</td>\n",
              "      <td>Left Corner 3</td>\n",
              "      <td>22.306450</td>\n",
              "      <td>11.858464</td>\n",
              "      <td>41.307588</td>\n",
              "      <td>1.999961</td>\n",
              "      <td>31.011963</td>\n",
              "      <td>16.872173</td>\n",
              "      <td>29.104928</td>\n",
              "      <td>19.166025</td>\n",
              "      <td>19.676466</td>\n",
              "      <td>11.957578</td>\n",
              "      <td>jump</td>\n",
              "      <td>1.015326</td>\n",
              "    </tr>\n",
              "    <tr>\n",
              "      <th>1</th>\n",
              "      <td>0</td>\n",
              "      <td>7.655767</td>\n",
              "      <td>2.048083</td>\n",
              "      <td>38.634526</td>\n",
              "      <td>2</td>\n",
              "      <td>Turnaround Hook Shot</td>\n",
              "      <td>0</td>\n",
              "      <td>Right Side(R)</td>\n",
              "      <td>Mid-Range</td>\n",
              "      <td>30.619720</td>\n",
              "      <td>15.844131</td>\n",
              "      <td>18.873735</td>\n",
              "      <td>25.013035</td>\n",
              "      <td>1.999786</td>\n",
              "      <td>15.003752</td>\n",
              "      <td>3.856457</td>\n",
              "      <td>19.202419</td>\n",
              "      <td>13.437261</td>\n",
              "      <td>11.481929</td>\n",
              "      <td>jump</td>\n",
              "      <td>1.242424</td>\n",
              "    </tr>\n",
              "    <tr>\n",
              "      <th>2</th>\n",
              "      <td>2</td>\n",
              "      <td>3.700749</td>\n",
              "      <td>3.308324</td>\n",
              "      <td>96.629732</td>\n",
              "      <td>2</td>\n",
              "      <td>Driving Layup Shot</td>\n",
              "      <td>1</td>\n",
              "      <td>Center(C)</td>\n",
              "      <td>Restricted Area</td>\n",
              "      <td>10.961016</td>\n",
              "      <td>26.825071</td>\n",
              "      <td>25.013698</td>\n",
              "      <td>27.941217</td>\n",
              "      <td>1.999475</td>\n",
              "      <td>12.793319</td>\n",
              "      <td>9.548265</td>\n",
              "      <td>13.692735</td>\n",
              "      <td>7.969406</td>\n",
              "      <td>3.536200</td>\n",
              "      <td>rim</td>\n",
              "      <td>1.004484</td>\n",
              "    </tr>\n",
              "    <tr>\n",
              "      <th>3</th>\n",
              "      <td>2</td>\n",
              "      <td>3.319835</td>\n",
              "      <td>2.592761</td>\n",
              "      <td>89.052650</td>\n",
              "      <td>2</td>\n",
              "      <td>Driving Layup Shot</td>\n",
              "      <td>1</td>\n",
              "      <td>Center(C)</td>\n",
              "      <td>Restricted Area</td>\n",
              "      <td>7.606025</td>\n",
              "      <td>2.891729</td>\n",
              "      <td>14.374953</td>\n",
              "      <td>11.390372</td>\n",
              "      <td>1.527945</td>\n",
              "      <td>22.837639</td>\n",
              "      <td>0.591538</td>\n",
              "      <td>23.601283</td>\n",
              "      <td>1.999375</td>\n",
              "      <td>25.125611</td>\n",
              "      <td>rim</td>\n",
              "      <td>0.826667</td>\n",
              "    </tr>\n",
              "    <tr>\n",
              "      <th>4</th>\n",
              "      <td>2</td>\n",
              "      <td>8.037922</td>\n",
              "      <td>4.667564</td>\n",
              "      <td>86.547362</td>\n",
              "      <td>2</td>\n",
              "      <td>Hook Shot</td>\n",
              "      <td>1</td>\n",
              "      <td>Center(C)</td>\n",
              "      <td>In The Paint (Non-RA)</td>\n",
              "      <td>13.954456</td>\n",
              "      <td>2.743609</td>\n",
              "      <td>14.941533</td>\n",
              "      <td>3.108210</td>\n",
              "      <td>12.456853</td>\n",
              "      <td>27.647770</td>\n",
              "      <td>1.999330</td>\n",
              "      <td>22.116480</td>\n",
              "      <td>8.448041</td>\n",
              "      <td>18.630734</td>\n",
              "      <td>jump</td>\n",
              "      <td>1.117647</td>\n",
              "    </tr>\n",
              "  </tbody>\n",
              "</table>\n",
              "</div>"
            ],
            "text/plain": [
              "   points  shooter_to_hoop  ...  rim_jump       pps\n",
              "0       0        22.468207  ...      jump  1.015326\n",
              "1       0         7.655767  ...      jump  1.242424\n",
              "2       2         3.700749  ...       rim  1.004484\n",
              "3       2         3.319835  ...       rim  0.826667\n",
              "4       2         8.037922  ...      jump  1.117647\n",
              "\n",
              "[5 rows x 21 columns]"
            ]
          },
          "metadata": {
            "tags": []
          },
          "execution_count": 101
        }
      ]
    },
    {
      "cell_type": "markdown",
      "metadata": {
        "id": "_NyGnFL5Yzks"
      },
      "source": [
        "##Random Oversampling\n",
        "\n",
        "I wanted to oversample two-point makes and three-point makes, so that the number of both categories was equal to the number of misses"
      ]
    },
    {
      "cell_type": "code",
      "metadata": {
        "colab": {
          "base_uri": "https://localhost:8080/"
        },
        "id": "JFq4S1WjAlN6",
        "outputId": "4f171fa3-874d-48b9-d724-5e07ea8b15de"
      },
      "source": [
        "indices3 = final_df[final_df['points'] == 3].index\n",
        "indices2 = final_df[final_df['points'] == 2].index\n",
        "sample_size = len(final_df[final_df['points'] == 0])\n",
        "random_indices = np.random.choice(indices3, sample_size, replace=True)\n",
        "random_indices2 = np.random.choice(indices2, sample_size, replace=True)\n",
        "three_point_sample = final_df.loc[random_indices]\n",
        "two_point_sample = final_df.loc[random_indices2]\n",
        "no_points_sample = final_df[final_df['points'] == 0]\n",
        "oversampled_df = pd.concat([three_point_sample, two_point_sample, no_points_sample])\n",
        "len(oversampled_df)"
      ],
      "execution_count": null,
      "outputs": [
        {
          "output_type": "execute_result",
          "data": {
            "text/plain": [
              "76461"
            ]
          },
          "metadata": {
            "tags": []
          },
          "execution_count": 104
        }
      ]
    },
    {
      "cell_type": "markdown",
      "metadata": {
        "id": "GgcqCdhqZL09"
      },
      "source": [
        "## Add noise to label\n",
        "\n",
        "Our label only had three values (0,2,3). I added noise, because we wanted to treat this as a regression problem. "
      ]
    },
    {
      "cell_type": "code",
      "metadata": {
        "colab": {
          "base_uri": "https://localhost:8080/",
          "height": 292
        },
        "id": "cZfzqOdQGEHX",
        "outputId": "8611bb18-f70a-42fd-fb1c-204cdc045dad"
      },
      "source": [
        "noise = np.random.normal(0, .1, oversampled_df['points'].size)\n",
        "oversampled_df['points']=oversampled_df['points'] +noise\n",
        "oversampled_df.head()"
      ],
      "execution_count": null,
      "outputs": [
        {
          "output_type": "execute_result",
          "data": {
            "text/html": [
              "<div>\n",
              "<style scoped>\n",
              "    .dataframe tbody tr th:only-of-type {\n",
              "        vertical-align: middle;\n",
              "    }\n",
              "\n",
              "    .dataframe tbody tr th {\n",
              "        vertical-align: top;\n",
              "    }\n",
              "\n",
              "    .dataframe thead th {\n",
              "        text-align: right;\n",
              "    }\n",
              "</style>\n",
              "<table border=\"1\" class=\"dataframe\">\n",
              "  <thead>\n",
              "    <tr style=\"text-align: right;\">\n",
              "      <th></th>\n",
              "      <th>points</th>\n",
              "      <th>shooter_to_hoop</th>\n",
              "      <th>nearest_def_dist</th>\n",
              "      <th>def_angle</th>\n",
              "      <th>shot_type_num</th>\n",
              "      <th>action_type</th>\n",
              "      <th>shot_made_flag</th>\n",
              "      <th>shot_zone_area</th>\n",
              "      <th>shot_zone_basic</th>\n",
              "      <th>p1_dist_from_ball</th>\n",
              "      <th>p2_dist_from_ball</th>\n",
              "      <th>p3_dist_from_ball</th>\n",
              "      <th>p4_dist_from_ball</th>\n",
              "      <th>p5_dist_from_ball</th>\n",
              "      <th>p6_dist_from_ball</th>\n",
              "      <th>p7_dist_from_ball</th>\n",
              "      <th>p8_dist_from_ball</th>\n",
              "      <th>p9_dist_from_ball</th>\n",
              "      <th>p10_dist_from_ball</th>\n",
              "      <th>rim_jump</th>\n",
              "      <th>pps</th>\n",
              "    </tr>\n",
              "  </thead>\n",
              "  <tbody>\n",
              "    <tr>\n",
              "      <th>5943</th>\n",
              "      <td>2.917145</td>\n",
              "      <td>28.004613</td>\n",
              "      <td>11.480830</td>\n",
              "      <td>6.282993</td>\n",
              "      <td>3</td>\n",
              "      <td>Pullup Jump shot</td>\n",
              "      <td>1</td>\n",
              "      <td>Center(C)</td>\n",
              "      <td>Above the Break 3</td>\n",
              "      <td>15.182317</td>\n",
              "      <td>30.195895</td>\n",
              "      <td>24.087636</td>\n",
              "      <td>29.320225</td>\n",
              "      <td>1.636552</td>\n",
              "      <td>24.540192</td>\n",
              "      <td>10.353827</td>\n",
              "      <td>13.143019</td>\n",
              "      <td>24.147176</td>\n",
              "      <td>28.595065</td>\n",
              "      <td>jump</td>\n",
              "      <td>1.132479</td>\n",
              "    </tr>\n",
              "    <tr>\n",
              "      <th>22846</th>\n",
              "      <td>2.841541</td>\n",
              "      <td>26.836980</td>\n",
              "      <td>7.807615</td>\n",
              "      <td>28.096315</td>\n",
              "      <td>3</td>\n",
              "      <td>Jump Shot</td>\n",
              "      <td>1</td>\n",
              "      <td>Left Side Center(LC)</td>\n",
              "      <td>Above the Break 3</td>\n",
              "      <td>22.685995</td>\n",
              "      <td>25.202246</td>\n",
              "      <td>6.836688</td>\n",
              "      <td>18.453603</td>\n",
              "      <td>8.377096</td>\n",
              "      <td>0.992347</td>\n",
              "      <td>5.924061</td>\n",
              "      <td>27.512686</td>\n",
              "      <td>26.644144</td>\n",
              "      <td>32.071626</td>\n",
              "      <td>jump</td>\n",
              "      <td>1.318386</td>\n",
              "    </tr>\n",
              "    <tr>\n",
              "      <th>5049</th>\n",
              "      <td>2.884106</td>\n",
              "      <td>25.610007</td>\n",
              "      <td>14.106644</td>\n",
              "      <td>79.621500</td>\n",
              "      <td>3</td>\n",
              "      <td>Jump Shot</td>\n",
              "      <td>1</td>\n",
              "      <td>Right Side Center(RC)</td>\n",
              "      <td>Above the Break 3</td>\n",
              "      <td>25.221693</td>\n",
              "      <td>24.383002</td>\n",
              "      <td>10.711281</td>\n",
              "      <td>1.674116</td>\n",
              "      <td>20.912456</td>\n",
              "      <td>33.710569</td>\n",
              "      <td>52.992226</td>\n",
              "      <td>20.909185</td>\n",
              "      <td>15.390111</td>\n",
              "      <td>13.727658</td>\n",
              "      <td>jump</td>\n",
              "      <td>1.008772</td>\n",
              "    </tr>\n",
              "    <tr>\n",
              "      <th>26275</th>\n",
              "      <td>2.979223</td>\n",
              "      <td>23.028015</td>\n",
              "      <td>7.474014</td>\n",
              "      <td>6.322841</td>\n",
              "      <td>3</td>\n",
              "      <td>Jump Shot</td>\n",
              "      <td>1</td>\n",
              "      <td>Left Side(L)</td>\n",
              "      <td>Left Corner 3</td>\n",
              "      <td>36.811591</td>\n",
              "      <td>21.789787</td>\n",
              "      <td>25.278179</td>\n",
              "      <td>23.892883</td>\n",
              "      <td>0.858772</td>\n",
              "      <td>30.032637</td>\n",
              "      <td>19.814381</td>\n",
              "      <td>21.125129</td>\n",
              "      <td>14.961263</td>\n",
              "      <td>6.615987</td>\n",
              "      <td>jump</td>\n",
              "      <td>1.173913</td>\n",
              "    </tr>\n",
              "    <tr>\n",
              "      <th>9171</th>\n",
              "      <td>2.993567</td>\n",
              "      <td>24.731887</td>\n",
              "      <td>4.600310</td>\n",
              "      <td>32.293850</td>\n",
              "      <td>3</td>\n",
              "      <td>Step Back Jump shot</td>\n",
              "      <td>1</td>\n",
              "      <td>Left Side Center(LC)</td>\n",
              "      <td>Above the Break 3</td>\n",
              "      <td>23.825785</td>\n",
              "      <td>15.260138</td>\n",
              "      <td>11.987415</td>\n",
              "      <td>4.368974</td>\n",
              "      <td>27.065458</td>\n",
              "      <td>33.090908</td>\n",
              "      <td>1.506882</td>\n",
              "      <td>40.839907</td>\n",
              "      <td>24.500503</td>\n",
              "      <td>13.205445</td>\n",
              "      <td>jump</td>\n",
              "      <td>1.221053</td>\n",
              "    </tr>\n",
              "  </tbody>\n",
              "</table>\n",
              "</div>"
            ],
            "text/plain": [
              "         points  shooter_to_hoop  ...  rim_jump       pps\n",
              "5943   2.917145        28.004613  ...      jump  1.132479\n",
              "22846  2.841541        26.836980  ...      jump  1.318386\n",
              "5049   2.884106        25.610007  ...      jump  1.008772\n",
              "26275  2.979223        23.028015  ...      jump  1.173913\n",
              "9171   2.993567        24.731887  ...      jump  1.221053\n",
              "\n",
              "[5 rows x 21 columns]"
            ]
          },
          "metadata": {
            "tags": []
          },
          "execution_count": 105
        }
      ]
    },
    {
      "cell_type": "markdown",
      "metadata": {
        "id": "k-43ovIPZZ52"
      },
      "source": [
        "## Convert from pandas to spark"
      ]
    },
    {
      "cell_type": "code",
      "metadata": {
        "colab": {
          "base_uri": "https://localhost:8080/"
        },
        "id": "LFoCVKahXI8L",
        "outputId": "d7947b31-2324-4a37-9dfe-5048bc012bed"
      },
      "source": [
        "sparkDF=spark.createDataFrame(oversampled_df) \n",
        "sparkDF.printSchema()\n",
        "sparkDF.show()"
      ],
      "execution_count": null,
      "outputs": [
        {
          "output_type": "stream",
          "text": [
            "root\n",
            " |-- points: double (nullable = true)\n",
            " |-- shooter_to_hoop: double (nullable = true)\n",
            " |-- nearest_def_dist: double (nullable = true)\n",
            " |-- def_angle: double (nullable = true)\n",
            " |-- shot_type_num: long (nullable = true)\n",
            " |-- action_type: string (nullable = true)\n",
            " |-- shot_made_flag: long (nullable = true)\n",
            " |-- shot_zone_area: string (nullable = true)\n",
            " |-- shot_zone_basic: string (nullable = true)\n",
            " |-- p1_dist_from_ball: double (nullable = true)\n",
            " |-- p2_dist_from_ball: double (nullable = true)\n",
            " |-- p3_dist_from_ball: double (nullable = true)\n",
            " |-- p4_dist_from_ball: double (nullable = true)\n",
            " |-- p5_dist_from_ball: double (nullable = true)\n",
            " |-- p6_dist_from_ball: double (nullable = true)\n",
            " |-- p7_dist_from_ball: double (nullable = true)\n",
            " |-- p8_dist_from_ball: double (nullable = true)\n",
            " |-- p9_dist_from_ball: double (nullable = true)\n",
            " |-- p10_dist_from_ball: double (nullable = true)\n",
            " |-- rim_jump: string (nullable = true)\n",
            " |-- pps: double (nullable = true)\n",
            "\n",
            "+------------------+------------------+------------------+------------------+-------------+-------------------+--------------+--------------------+-----------------+------------------+------------------+------------------+------------------+------------------+-------------------+------------------+------------------+------------------+------------------+--------+------------------+\n",
            "|            points|   shooter_to_hoop|  nearest_def_dist|         def_angle|shot_type_num|        action_type|shot_made_flag|      shot_zone_area|  shot_zone_basic| p1_dist_from_ball| p2_dist_from_ball| p3_dist_from_ball| p4_dist_from_ball| p5_dist_from_ball|  p6_dist_from_ball| p7_dist_from_ball| p8_dist_from_ball| p9_dist_from_ball|p10_dist_from_ball|rim_jump|               pps|\n",
            "+------------------+------------------+------------------+------------------+-------------+-------------------+--------------+--------------------+-----------------+------------------+------------------+------------------+------------------+------------------+-------------------+------------------+------------------+------------------+------------------+--------+------------------+\n",
            "|2.9171454381785877|  28.0046127872713|11.480829981146801| 6.282993081450349|            3|   Pullup Jump shot|             1|           Center(C)|Above the Break 3|15.182316916893802|30.195895487582398|24.087635627335896|  29.3202253019737|  1.63655171198468|    24.540192069177|  10.3538274808305|  13.1430185425761|24.147175519637898|28.595064767350998|    jump|  1.13247863247863|\n",
            "| 2.841540722379262|   26.836980300194|  7.80761510246246|28.096315454914798|            3|          Jump Shot|             1|Left Side Center(LC)|Above the Break 3|22.685995291703602|25.202246316415895|  6.83668761524907|  18.4536030704034|  8.37709620086221|  0.992346775124501|   5.9240606091177|27.512686307992503|26.644143603816598|  32.0716257221629|    jump|  1.31838565022422|\n",
            "|2.8841058757732494|25.610007371191802|14.106643619050601|   79.621500311302|            3|          Jump Shot|             1|Right Side Center...|Above the Break 3|  25.2216933801837|24.383001562006303|10.711281477853198|  1.67411648964461|  20.9124563523203| 33.710568936536795|  52.9922255631994|20.909184547353803|  15.3901111803716|13.727657707810199|    jump|1.0087719298245599|\n",
            "|2.9792234886239095|  23.0280145966625| 7.474013546609339| 6.322840707813599|            3|          Jump Shot|             1|        Left Side(L)|    Left Corner 3|  36.8115914918453|  21.7897872649574|25.278179323297802|  23.8928832864705|0.8587722126967059|   30.0326373039798|  19.8143808995235|  21.1251292990812|  14.9612629450759| 6.615987358542941|    jump|  1.17391304347826|\n",
            "| 2.993566816967534|  24.7318871835228| 4.600310194986849|  32.2938504210786|            3|Step Back Jump shot|             1|Left Side Center(LC)|Above the Break 3|23.825785055869602|15.260138193361799|11.987414695592198|  4.36897446169007|27.065457506437998| 33.090907975445496|1.5068823275226202|  40.8399072987207|24.500503180320603|  13.2054453979107|    jump|  1.22105263157895|\n",
            "|3.0901280837822744|  24.7968528798334|  8.67759597939429|  20.2414677851555|            3|          Jump Shot|             1|Right Side Center...|Above the Break 3|14.974354262484901|23.664628830423304|17.078649852236598|  16.4374737290436|  1.76819494550233|   14.8602486010497|19.784353105696898|  17.5838133356391|  15.5879519193286| 6.912952419227261|    jump|  1.19191919191919|\n",
            "|3.0752032322674414|  23.8743926290283| 7.649589989437339|  58.4949283075574|            3|          Jump Shot|             1|           Center(C)|Above the Break 3|  13.8602444957151|0.8052888083166179|28.647096830953004|  19.4128904196619|  19.9376480069741| 22.420415989265198|  13.2622810245033|  16.9671932101453| 7.816455666534539|  19.2475753869754|    jump| 0.895833333333333|\n",
            "|  3.06853513172596|  23.1858018714083|  9.32337121979491|  35.5204459792997|            3|          Jump Shot|             1|        Left Side(L)|    Left Corner 3|  23.8925843006256|   35.892802998579|  8.01894704587204|  29.5358319788439|  27.9052938580335|   35.6786766897611|  30.5344913789537|1.4162736183379299|43.747997577004604|   22.009009821857|    jump|0.9036144578313249|\n",
            "|2.9743243150182197|22.704909751251996|  5.09404997703203|  7.62579758904294|            3|          Jump Shot|             1|       Right Side(R)|   Right Corner 3|   17.102063195872|  35.5834515440759|30.767382737316197|  1.14285134055134|23.081101135162502| 24.725268344826898|  32.6631822566081|20.586203319468602|  4.01632488642291|19.980875877468396|    jump|  1.12169312169312|\n",
            "|3.0863425821985704|23.105218508748198|    5.249062744986|  4.90471510819986|            3|          Jump Shot|             1|       Right Side(R)|   Right Corner 3|  30.1130196709397|  18.1240325486493|22.416094461982002|  3.59339571248422|  23.0925430738258|   28.7609047835982|25.613568925317697|  25.9399609172026| 39.36417692641879|  1.78743325853023|    jump|0.8611111111111109|\n",
            "|3.0107515913285496|  23.4594165087306| 9.034486020278079|   10.392005702442|            3|          Jump Shot|             1|Right Side Center...|Above the Break 3|  16.8281648472137|    34.55931488192|  28.5591877088425|  15.2132506079996|  7.36824622995866|   32.0836470909683|  1.93665827375405|  42.0197611859147|    12.06321794365|  22.6882067100619|    jump|  1.05970149253731|\n",
            "| 3.022331974086892|  26.7804490262169|  8.88264761423079|11.252909356709099|            3|          Jump Shot|             1|Left Side Center(LC)|Above the Break 3|19.754430572975302|  18.9413754560354|  8.06680917238656|  27.9967445930201|22.326299213270897|   22.8848636874463|  22.9715842505583|  32.1584759880968|20.467030585722497|  1.28079657030303|    jump|  1.03084832904884|\n",
            "|  3.04867859610513|  34.4878289647014|  8.26725547577913| 0.605851191322737|            3|   Pullup Jump shot|             1|Right Side Center...|Above the Break 3|1.4357521577904697|  24.1422926889743|   32.112616994971|43.871980470922395|  38.2934254351853|   34.6389502393621| 6.853018552200191|  34.1888565987955|15.772124569695698|  23.3925897042033|    jump|  1.07943925233645|\n",
            "| 2.941830152073567|25.407480219464897|  5.16230550576969|  4.97628365309598|            3|   Pullup Jump shot|             1|           Center(C)|Above the Break 3|  19.4152317301906|  1.27896754849371|  16.5480537210906|   33.012785637745|  19.8230060057752|   9.05175098294799|  3.96302557814102|14.190122409993501|18.161079715787803|27.087900222699105|    jump| 0.952076677316294|\n",
            "|3.1932126050915532|  24.6858035441668|  4.76425403211248|  9.90422062029691|            3|          Jump Shot|             1|Right Side Center...|Above the Break 3|  22.9915980318115|30.164655662712303|  17.9845667080555|  13.4044112918733| 4.736092925524161|0.20688476333456698|  17.7641739918438|  34.5501100976335|  45.1945851839366|  38.9017123514248|    jump|0.9449541284403671|\n",
            "| 2.802005545836003|  25.3493153827811|  9.50572904436582|  2.48080355663838|            3|   Pullup Jump shot|             1|Right Side Center...|Above the Break 3|  12.2378595837181| 8.193102532282879|    23.60254432124|  28.1539241592731|24.111454242832398|   32.4600639597183|21.529198613292603|  1.43898686053765| 40.66976037327979|  12.6597660344771|    jump|  1.13157894736842|\n",
            "|2.9134584667999586|  24.3839149692292|   2.4163759959907|28.512821300338302|            3|          Jump Shot|             1|Left Side Center(LC)|Above the Break 3|25.456289923081897| 9.888455465384869|  22.7818350036383|  3.82854550325577|  32.3691447344674|   29.4848868957251|  1.72621946649319|  45.3388162100832|28.700803233744196|7.5986113967290105|    jump|  1.01941747572816|\n",
            "|  3.10001061890062|  24.2326309625389|  6.31747747327206|   19.659269554397|            3|   Pullup Jump shot|             1|Right Side Center...|Above the Break 3|19.011967426318602|39.957383560999105|  1.69993948892306|   44.132350024158|  8.11683167720632|   14.9502587061027|  4.62070663640314|  30.5038375148915|  26.8959103956419|  13.1724827920821|    jump|   1.0607476635514|\n",
            "|2.9865405580921087|24.690783971419396|12.502057259699301|  26.7878797799959|            3|          Jump Shot|             1|Right Side Center...|Above the Break 3|29.633135657052897|  22.2337553459711|  20.7089309005994|   11.722567572358|  11.0116604622736|   40.4010388792974|  25.4181164006501|   21.095281193978|  1.54512904380184|18.988732992111398|    jump|  1.12169312169312|\n",
            "| 2.971716962641897|25.330886378208298| 9.020521438520051|  11.7654829654655|            3|          Jump Shot|             1|Right Side Center...|Above the Break 3|25.018326249071897|32.032676640582196|0.7240915208038191|  13.9296496748949|18.393343937957603|   20.6717413911867|  24.4851075274584|15.364822452472401|  8.41461439126596|14.635881940689499|    jump|  1.26744186046512|\n",
            "+------------------+------------------+------------------+------------------+-------------+-------------------+--------------+--------------------+-----------------+------------------+------------------+------------------+------------------+------------------+-------------------+------------------+------------------+------------------+------------------+--------+------------------+\n",
            "only showing top 20 rows\n",
            "\n"
          ],
          "name": "stdout"
        }
      ]
    },
    {
      "cell_type": "markdown",
      "metadata": {
        "id": "VlLeWVx4ZgH1"
      },
      "source": [
        "#Index string variables"
      ]
    },
    {
      "cell_type": "code",
      "metadata": {
        "colab": {
          "base_uri": "https://localhost:8080/"
        },
        "id": "OMT0l0phlEf6",
        "outputId": "723b53c3-d280-4bc3-8901-023e8c74d9bb"
      },
      "source": [
        "columns_lst=[\"action_type\", \"shot_zone_area\", \"shot_zone_basic\"]\n",
        "stages=[]\n",
        "\n",
        "for column in columns_lst:\n",
        "    #create a string indexer for those categorical values and assign a new name including the word 'Index'\n",
        "    stringIndexer = StringIndexer(inputCol = column, outputCol = column + 'Index')\n",
        "\n",
        "    #append the string Indexer to our list of stages\n",
        "    stages += [stringIndexer]\n",
        "\n",
        "pipeline = Pipeline(stages = stages)\n",
        "\n",
        "pipelineModel = pipeline.fit(sparkDF)\n",
        "\n",
        "df= pipelineModel.transform(sparkDF)\n",
        "df.show()"
      ],
      "execution_count": null,
      "outputs": [
        {
          "output_type": "stream",
          "text": [
            "+------------------+------------------+------------------+------------------+-------------+-------------------+--------------+--------------------+-----------------+------------------+------------------+------------------+------------------+------------------+-------------------+------------------+------------------+------------------+------------------+--------+------------------+----------------+-------------------+--------------------+\n",
            "|            points|   shooter_to_hoop|  nearest_def_dist|         def_angle|shot_type_num|        action_type|shot_made_flag|      shot_zone_area|  shot_zone_basic| p1_dist_from_ball| p2_dist_from_ball| p3_dist_from_ball| p4_dist_from_ball| p5_dist_from_ball|  p6_dist_from_ball| p7_dist_from_ball| p8_dist_from_ball| p9_dist_from_ball|p10_dist_from_ball|rim_jump|               pps|action_typeIndex|shot_zone_areaIndex|shot_zone_basicIndex|\n",
            "+------------------+------------------+------------------+------------------+-------------+-------------------+--------------+--------------------+-----------------+------------------+------------------+------------------+------------------+------------------+-------------------+------------------+------------------+------------------+------------------+--------+------------------+----------------+-------------------+--------------------+\n",
            "|2.9171454381785877|  28.0046127872713|11.480829981146801| 6.282993081450349|            3|   Pullup Jump shot|             1|           Center(C)|Above the Break 3|15.182316916893802|30.195895487582398|24.087635627335896|  29.3202253019737|  1.63655171198468|    24.540192069177|  10.3538274808305|  13.1430185425761|24.147175519637898|28.595064767350998|    jump|  1.13247863247863|             1.0|                0.0|                 0.0|\n",
            "| 2.841540722379262|   26.836980300194|  7.80761510246246|28.096315454914798|            3|          Jump Shot|             1|Left Side Center(LC)|Above the Break 3|22.685995291703602|25.202246316415895|  6.83668761524907|  18.4536030704034|  8.37709620086221|  0.992346775124501|   5.9240606091177|27.512686307992503|26.644143603816598|  32.0716257221629|    jump|  1.31838565022422|             0.0|                1.0|                 0.0|\n",
            "|2.8841058757732494|25.610007371191802|14.106643619050601|   79.621500311302|            3|          Jump Shot|             1|Right Side Center...|Above the Break 3|  25.2216933801837|24.383001562006303|10.711281477853198|  1.67411648964461|  20.9124563523203| 33.710568936536795|  52.9922255631994|20.909184547353803|  15.3901111803716|13.727657707810199|    jump|1.0087719298245599|             0.0|                2.0|                 0.0|\n",
            "|2.9792234886239095|  23.0280145966625| 7.474013546609339| 6.322840707813599|            3|          Jump Shot|             1|        Left Side(L)|    Left Corner 3|  36.8115914918453|  21.7897872649574|25.278179323297802|  23.8928832864705|0.8587722126967059|   30.0326373039798|  19.8143808995235|  21.1251292990812|  14.9612629450759| 6.615987358542941|    jump|  1.17391304347826|             0.0|                3.0|                 4.0|\n",
            "| 2.993566816967534|  24.7318871835228| 4.600310194986849|  32.2938504210786|            3|Step Back Jump shot|             1|Left Side Center(LC)|Above the Break 3|23.825785055869602|15.260138193361799|11.987414695592198|  4.36897446169007|27.065457506437998| 33.090907975445496|1.5068823275226202|  40.8399072987207|24.500503180320603|  13.2054453979107|    jump|  1.22105263157895|             4.0|                1.0|                 0.0|\n",
            "|3.0901280837822744|  24.7968528798334|  8.67759597939429|  20.2414677851555|            3|          Jump Shot|             1|Right Side Center...|Above the Break 3|14.974354262484901|23.664628830423304|17.078649852236598|  16.4374737290436|  1.76819494550233|   14.8602486010497|19.784353105696898|  17.5838133356391|  15.5879519193286| 6.912952419227261|    jump|  1.19191919191919|             0.0|                2.0|                 0.0|\n",
            "|3.0752032322674414|  23.8743926290283| 7.649589989437339|  58.4949283075574|            3|          Jump Shot|             1|           Center(C)|Above the Break 3|  13.8602444957151|0.8052888083166179|28.647096830953004|  19.4128904196619|  19.9376480069741| 22.420415989265198|  13.2622810245033|  16.9671932101453| 7.816455666534539|  19.2475753869754|    jump| 0.895833333333333|             0.0|                0.0|                 0.0|\n",
            "|  3.06853513172596|  23.1858018714083|  9.32337121979491|  35.5204459792997|            3|          Jump Shot|             1|        Left Side(L)|    Left Corner 3|  23.8925843006256|   35.892802998579|  8.01894704587204|  29.5358319788439|  27.9052938580335|   35.6786766897611|  30.5344913789537|1.4162736183379299|43.747997577004604|   22.009009821857|    jump|0.9036144578313249|             0.0|                3.0|                 4.0|\n",
            "|2.9743243150182197|22.704909751251996|  5.09404997703203|  7.62579758904294|            3|          Jump Shot|             1|       Right Side(R)|   Right Corner 3|   17.102063195872|  35.5834515440759|30.767382737316197|  1.14285134055134|23.081101135162502| 24.725268344826898|  32.6631822566081|20.586203319468602|  4.01632488642291|19.980875877468396|    jump|  1.12169312169312|             0.0|                4.0|                 5.0|\n",
            "|3.0863425821985704|23.105218508748198|    5.249062744986|  4.90471510819986|            3|          Jump Shot|             1|       Right Side(R)|   Right Corner 3|  30.1130196709397|  18.1240325486493|22.416094461982002|  3.59339571248422|  23.0925430738258|   28.7609047835982|25.613568925317697|  25.9399609172026| 39.36417692641879|  1.78743325853023|    jump|0.8611111111111109|             0.0|                4.0|                 5.0|\n",
            "|3.0107515913285496|  23.4594165087306| 9.034486020278079|   10.392005702442|            3|          Jump Shot|             1|Right Side Center...|Above the Break 3|  16.8281648472137|    34.55931488192|  28.5591877088425|  15.2132506079996|  7.36824622995866|   32.0836470909683|  1.93665827375405|  42.0197611859147|    12.06321794365|  22.6882067100619|    jump|  1.05970149253731|             0.0|                2.0|                 0.0|\n",
            "| 3.022331974086892|  26.7804490262169|  8.88264761423079|11.252909356709099|            3|          Jump Shot|             1|Left Side Center(LC)|Above the Break 3|19.754430572975302|  18.9413754560354|  8.06680917238656|  27.9967445930201|22.326299213270897|   22.8848636874463|  22.9715842505583|  32.1584759880968|20.467030585722497|  1.28079657030303|    jump|  1.03084832904884|             0.0|                1.0|                 0.0|\n",
            "|  3.04867859610513|  34.4878289647014|  8.26725547577913| 0.605851191322737|            3|   Pullup Jump shot|             1|Right Side Center...|Above the Break 3|1.4357521577904697|  24.1422926889743|   32.112616994971|43.871980470922395|  38.2934254351853|   34.6389502393621| 6.853018552200191|  34.1888565987955|15.772124569695698|  23.3925897042033|    jump|  1.07943925233645|             1.0|                2.0|                 0.0|\n",
            "| 2.941830152073567|25.407480219464897|  5.16230550576969|  4.97628365309598|            3|   Pullup Jump shot|             1|           Center(C)|Above the Break 3|  19.4152317301906|  1.27896754849371|  16.5480537210906|   33.012785637745|  19.8230060057752|   9.05175098294799|  3.96302557814102|14.190122409993501|18.161079715787803|27.087900222699105|    jump| 0.952076677316294|             1.0|                0.0|                 0.0|\n",
            "|3.1932126050915532|  24.6858035441668|  4.76425403211248|  9.90422062029691|            3|          Jump Shot|             1|Right Side Center...|Above the Break 3|  22.9915980318115|30.164655662712303|  17.9845667080555|  13.4044112918733| 4.736092925524161|0.20688476333456698|  17.7641739918438|  34.5501100976335|  45.1945851839366|  38.9017123514248|    jump|0.9449541284403671|             0.0|                2.0|                 0.0|\n",
            "| 2.802005545836003|  25.3493153827811|  9.50572904436582|  2.48080355663838|            3|   Pullup Jump shot|             1|Right Side Center...|Above the Break 3|  12.2378595837181| 8.193102532282879|    23.60254432124|  28.1539241592731|24.111454242832398|   32.4600639597183|21.529198613292603|  1.43898686053765| 40.66976037327979|  12.6597660344771|    jump|  1.13157894736842|             1.0|                2.0|                 0.0|\n",
            "|2.9134584667999586|  24.3839149692292|   2.4163759959907|28.512821300338302|            3|          Jump Shot|             1|Left Side Center(LC)|Above the Break 3|25.456289923081897| 9.888455465384869|  22.7818350036383|  3.82854550325577|  32.3691447344674|   29.4848868957251|  1.72621946649319|  45.3388162100832|28.700803233744196|7.5986113967290105|    jump|  1.01941747572816|             0.0|                1.0|                 0.0|\n",
            "|  3.10001061890062|  24.2326309625389|  6.31747747327206|   19.659269554397|            3|   Pullup Jump shot|             1|Right Side Center...|Above the Break 3|19.011967426318602|39.957383560999105|  1.69993948892306|   44.132350024158|  8.11683167720632|   14.9502587061027|  4.62070663640314|  30.5038375148915|  26.8959103956419|  13.1724827920821|    jump|   1.0607476635514|             1.0|                2.0|                 0.0|\n",
            "|2.9865405580921087|24.690783971419396|12.502057259699301|  26.7878797799959|            3|          Jump Shot|             1|Right Side Center...|Above the Break 3|29.633135657052897|  22.2337553459711|  20.7089309005994|   11.722567572358|  11.0116604622736|   40.4010388792974|  25.4181164006501|   21.095281193978|  1.54512904380184|18.988732992111398|    jump|  1.12169312169312|             0.0|                2.0|                 0.0|\n",
            "| 2.971716962641897|25.330886378208298| 9.020521438520051|  11.7654829654655|            3|          Jump Shot|             1|Right Side Center...|Above the Break 3|25.018326249071897|32.032676640582196|0.7240915208038191|  13.9296496748949|18.393343937957603|   20.6717413911867|  24.4851075274584|15.364822452472401|  8.41461439126596|14.635881940689499|    jump|  1.26744186046512|             0.0|                2.0|                 0.0|\n",
            "+------------------+------------------+------------------+------------------+-------------+-------------------+--------------+--------------------+-----------------+------------------+------------------+------------------+------------------+------------------+-------------------+------------------+------------------+------------------+------------------+--------+------------------+----------------+-------------------+--------------------+\n",
            "only showing top 20 rows\n",
            "\n"
          ],
          "name": "stdout"
        }
      ]
    },
    {
      "cell_type": "markdown",
      "metadata": {
        "id": "zSr4ExKuZkze"
      },
      "source": [
        "#One hot encoding for categorical variables"
      ]
    },
    {
      "cell_type": "code",
      "metadata": {
        "colab": {
          "base_uri": "https://localhost:8080/"
        },
        "id": "5NaBMeBTazxK",
        "outputId": "ff3b63b8-4105-4318-e1f8-9ef41881c7a4"
      },
      "source": [
        "encoder = OneHotEncoder(inputCols=[\"shot_type_num\", \"action_typeIndex\", \"shot_zone_areaIndex\", \"shot_zone_basicIndex\"],\n",
        "                        outputCols=[\"shot_typeVec\", 'actionVec', \"areaVec\", \"zoneVec\"])\n",
        "encoded = encoder.fit(df).transform(df)\n",
        "encoded.show()"
      ],
      "execution_count": null,
      "outputs": [
        {
          "output_type": "stream",
          "text": [
            "+------------------+------------------+------------------+------------------+-------------+-------------------+--------------+--------------------+-----------------+------------------+------------------+------------------+------------------+------------------+-------------------+------------------+------------------+------------------+------------------+--------+------------------+----------------+-------------------+--------------------+------------+--------------+-------------+-------------+\n",
            "|            points|   shooter_to_hoop|  nearest_def_dist|         def_angle|shot_type_num|        action_type|shot_made_flag|      shot_zone_area|  shot_zone_basic| p1_dist_from_ball| p2_dist_from_ball| p3_dist_from_ball| p4_dist_from_ball| p5_dist_from_ball|  p6_dist_from_ball| p7_dist_from_ball| p8_dist_from_ball| p9_dist_from_ball|p10_dist_from_ball|rim_jump|               pps|action_typeIndex|shot_zone_areaIndex|shot_zone_basicIndex|shot_typeVec|     actionVec|      areaVec|      zoneVec|\n",
            "+------------------+------------------+------------------+------------------+-------------+-------------------+--------------+--------------------+-----------------+------------------+------------------+------------------+------------------+------------------+-------------------+------------------+------------------+------------------+------------------+--------+------------------+----------------+-------------------+--------------------+------------+--------------+-------------+-------------+\n",
            "|2.9171454381785877|  28.0046127872713|11.480829981146801| 6.282993081450349|            3|   Pullup Jump shot|             1|           Center(C)|Above the Break 3|15.182316916893802|30.195895487582398|24.087635627335896|  29.3202253019737|  1.63655171198468|    24.540192069177|  10.3538274808305|  13.1430185425761|24.147175519637898|28.595064767350998|    jump|  1.13247863247863|             1.0|                0.0|                 0.0|   (3,[],[])|(51,[1],[1.0])|(5,[0],[1.0])|(5,[0],[1.0])|\n",
            "| 2.841540722379262|   26.836980300194|  7.80761510246246|28.096315454914798|            3|          Jump Shot|             1|Left Side Center(LC)|Above the Break 3|22.685995291703602|25.202246316415895|  6.83668761524907|  18.4536030704034|  8.37709620086221|  0.992346775124501|   5.9240606091177|27.512686307992503|26.644143603816598|  32.0716257221629|    jump|  1.31838565022422|             0.0|                1.0|                 0.0|   (3,[],[])|(51,[0],[1.0])|(5,[1],[1.0])|(5,[0],[1.0])|\n",
            "|2.8841058757732494|25.610007371191802|14.106643619050601|   79.621500311302|            3|          Jump Shot|             1|Right Side Center...|Above the Break 3|  25.2216933801837|24.383001562006303|10.711281477853198|  1.67411648964461|  20.9124563523203| 33.710568936536795|  52.9922255631994|20.909184547353803|  15.3901111803716|13.727657707810199|    jump|1.0087719298245599|             0.0|                2.0|                 0.0|   (3,[],[])|(51,[0],[1.0])|(5,[2],[1.0])|(5,[0],[1.0])|\n",
            "|2.9792234886239095|  23.0280145966625| 7.474013546609339| 6.322840707813599|            3|          Jump Shot|             1|        Left Side(L)|    Left Corner 3|  36.8115914918453|  21.7897872649574|25.278179323297802|  23.8928832864705|0.8587722126967059|   30.0326373039798|  19.8143808995235|  21.1251292990812|  14.9612629450759| 6.615987358542941|    jump|  1.17391304347826|             0.0|                3.0|                 4.0|   (3,[],[])|(51,[0],[1.0])|(5,[3],[1.0])|(5,[4],[1.0])|\n",
            "| 2.993566816967534|  24.7318871835228| 4.600310194986849|  32.2938504210786|            3|Step Back Jump shot|             1|Left Side Center(LC)|Above the Break 3|23.825785055869602|15.260138193361799|11.987414695592198|  4.36897446169007|27.065457506437998| 33.090907975445496|1.5068823275226202|  40.8399072987207|24.500503180320603|  13.2054453979107|    jump|  1.22105263157895|             4.0|                1.0|                 0.0|   (3,[],[])|(51,[4],[1.0])|(5,[1],[1.0])|(5,[0],[1.0])|\n",
            "|3.0901280837822744|  24.7968528798334|  8.67759597939429|  20.2414677851555|            3|          Jump Shot|             1|Right Side Center...|Above the Break 3|14.974354262484901|23.664628830423304|17.078649852236598|  16.4374737290436|  1.76819494550233|   14.8602486010497|19.784353105696898|  17.5838133356391|  15.5879519193286| 6.912952419227261|    jump|  1.19191919191919|             0.0|                2.0|                 0.0|   (3,[],[])|(51,[0],[1.0])|(5,[2],[1.0])|(5,[0],[1.0])|\n",
            "|3.0752032322674414|  23.8743926290283| 7.649589989437339|  58.4949283075574|            3|          Jump Shot|             1|           Center(C)|Above the Break 3|  13.8602444957151|0.8052888083166179|28.647096830953004|  19.4128904196619|  19.9376480069741| 22.420415989265198|  13.2622810245033|  16.9671932101453| 7.816455666534539|  19.2475753869754|    jump| 0.895833333333333|             0.0|                0.0|                 0.0|   (3,[],[])|(51,[0],[1.0])|(5,[0],[1.0])|(5,[0],[1.0])|\n",
            "|  3.06853513172596|  23.1858018714083|  9.32337121979491|  35.5204459792997|            3|          Jump Shot|             1|        Left Side(L)|    Left Corner 3|  23.8925843006256|   35.892802998579|  8.01894704587204|  29.5358319788439|  27.9052938580335|   35.6786766897611|  30.5344913789537|1.4162736183379299|43.747997577004604|   22.009009821857|    jump|0.9036144578313249|             0.0|                3.0|                 4.0|   (3,[],[])|(51,[0],[1.0])|(5,[3],[1.0])|(5,[4],[1.0])|\n",
            "|2.9743243150182197|22.704909751251996|  5.09404997703203|  7.62579758904294|            3|          Jump Shot|             1|       Right Side(R)|   Right Corner 3|   17.102063195872|  35.5834515440759|30.767382737316197|  1.14285134055134|23.081101135162502| 24.725268344826898|  32.6631822566081|20.586203319468602|  4.01632488642291|19.980875877468396|    jump|  1.12169312169312|             0.0|                4.0|                 5.0|   (3,[],[])|(51,[0],[1.0])|(5,[4],[1.0])|    (5,[],[])|\n",
            "|3.0863425821985704|23.105218508748198|    5.249062744986|  4.90471510819986|            3|          Jump Shot|             1|       Right Side(R)|   Right Corner 3|  30.1130196709397|  18.1240325486493|22.416094461982002|  3.59339571248422|  23.0925430738258|   28.7609047835982|25.613568925317697|  25.9399609172026| 39.36417692641879|  1.78743325853023|    jump|0.8611111111111109|             0.0|                4.0|                 5.0|   (3,[],[])|(51,[0],[1.0])|(5,[4],[1.0])|    (5,[],[])|\n",
            "|3.0107515913285496|  23.4594165087306| 9.034486020278079|   10.392005702442|            3|          Jump Shot|             1|Right Side Center...|Above the Break 3|  16.8281648472137|    34.55931488192|  28.5591877088425|  15.2132506079996|  7.36824622995866|   32.0836470909683|  1.93665827375405|  42.0197611859147|    12.06321794365|  22.6882067100619|    jump|  1.05970149253731|             0.0|                2.0|                 0.0|   (3,[],[])|(51,[0],[1.0])|(5,[2],[1.0])|(5,[0],[1.0])|\n",
            "| 3.022331974086892|  26.7804490262169|  8.88264761423079|11.252909356709099|            3|          Jump Shot|             1|Left Side Center(LC)|Above the Break 3|19.754430572975302|  18.9413754560354|  8.06680917238656|  27.9967445930201|22.326299213270897|   22.8848636874463|  22.9715842505583|  32.1584759880968|20.467030585722497|  1.28079657030303|    jump|  1.03084832904884|             0.0|                1.0|                 0.0|   (3,[],[])|(51,[0],[1.0])|(5,[1],[1.0])|(5,[0],[1.0])|\n",
            "|  3.04867859610513|  34.4878289647014|  8.26725547577913| 0.605851191322737|            3|   Pullup Jump shot|             1|Right Side Center...|Above the Break 3|1.4357521577904697|  24.1422926889743|   32.112616994971|43.871980470922395|  38.2934254351853|   34.6389502393621| 6.853018552200191|  34.1888565987955|15.772124569695698|  23.3925897042033|    jump|  1.07943925233645|             1.0|                2.0|                 0.0|   (3,[],[])|(51,[1],[1.0])|(5,[2],[1.0])|(5,[0],[1.0])|\n",
            "| 2.941830152073567|25.407480219464897|  5.16230550576969|  4.97628365309598|            3|   Pullup Jump shot|             1|           Center(C)|Above the Break 3|  19.4152317301906|  1.27896754849371|  16.5480537210906|   33.012785637745|  19.8230060057752|   9.05175098294799|  3.96302557814102|14.190122409993501|18.161079715787803|27.087900222699105|    jump| 0.952076677316294|             1.0|                0.0|                 0.0|   (3,[],[])|(51,[1],[1.0])|(5,[0],[1.0])|(5,[0],[1.0])|\n",
            "|3.1932126050915532|  24.6858035441668|  4.76425403211248|  9.90422062029691|            3|          Jump Shot|             1|Right Side Center...|Above the Break 3|  22.9915980318115|30.164655662712303|  17.9845667080555|  13.4044112918733| 4.736092925524161|0.20688476333456698|  17.7641739918438|  34.5501100976335|  45.1945851839366|  38.9017123514248|    jump|0.9449541284403671|             0.0|                2.0|                 0.0|   (3,[],[])|(51,[0],[1.0])|(5,[2],[1.0])|(5,[0],[1.0])|\n",
            "| 2.802005545836003|  25.3493153827811|  9.50572904436582|  2.48080355663838|            3|   Pullup Jump shot|             1|Right Side Center...|Above the Break 3|  12.2378595837181| 8.193102532282879|    23.60254432124|  28.1539241592731|24.111454242832398|   32.4600639597183|21.529198613292603|  1.43898686053765| 40.66976037327979|  12.6597660344771|    jump|  1.13157894736842|             1.0|                2.0|                 0.0|   (3,[],[])|(51,[1],[1.0])|(5,[2],[1.0])|(5,[0],[1.0])|\n",
            "|2.9134584667999586|  24.3839149692292|   2.4163759959907|28.512821300338302|            3|          Jump Shot|             1|Left Side Center(LC)|Above the Break 3|25.456289923081897| 9.888455465384869|  22.7818350036383|  3.82854550325577|  32.3691447344674|   29.4848868957251|  1.72621946649319|  45.3388162100832|28.700803233744196|7.5986113967290105|    jump|  1.01941747572816|             0.0|                1.0|                 0.0|   (3,[],[])|(51,[0],[1.0])|(5,[1],[1.0])|(5,[0],[1.0])|\n",
            "|  3.10001061890062|  24.2326309625389|  6.31747747327206|   19.659269554397|            3|   Pullup Jump shot|             1|Right Side Center...|Above the Break 3|19.011967426318602|39.957383560999105|  1.69993948892306|   44.132350024158|  8.11683167720632|   14.9502587061027|  4.62070663640314|  30.5038375148915|  26.8959103956419|  13.1724827920821|    jump|   1.0607476635514|             1.0|                2.0|                 0.0|   (3,[],[])|(51,[1],[1.0])|(5,[2],[1.0])|(5,[0],[1.0])|\n",
            "|2.9865405580921087|24.690783971419396|12.502057259699301|  26.7878797799959|            3|          Jump Shot|             1|Right Side Center...|Above the Break 3|29.633135657052897|  22.2337553459711|  20.7089309005994|   11.722567572358|  11.0116604622736|   40.4010388792974|  25.4181164006501|   21.095281193978|  1.54512904380184|18.988732992111398|    jump|  1.12169312169312|             0.0|                2.0|                 0.0|   (3,[],[])|(51,[0],[1.0])|(5,[2],[1.0])|(5,[0],[1.0])|\n",
            "| 2.971716962641897|25.330886378208298| 9.020521438520051|  11.7654829654655|            3|          Jump Shot|             1|Right Side Center...|Above the Break 3|25.018326249071897|32.032676640582196|0.7240915208038191|  13.9296496748949|18.393343937957603|   20.6717413911867|  24.4851075274584|15.364822452472401|  8.41461439126596|14.635881940689499|    jump|  1.26744186046512|             0.0|                2.0|                 0.0|   (3,[],[])|(51,[0],[1.0])|(5,[2],[1.0])|(5,[0],[1.0])|\n",
            "+------------------+------------------+------------------+------------------+-------------+-------------------+--------------+--------------------+-----------------+------------------+------------------+------------------+------------------+------------------+-------------------+------------------+------------------+------------------+------------------+--------+------------------+----------------+-------------------+--------------------+------------+--------------+-------------+-------------+\n",
            "only showing top 20 rows\n",
            "\n"
          ],
          "name": "stdout"
        }
      ]
    },
    {
      "cell_type": "markdown",
      "metadata": {
        "id": "5JsApHlvZqD2"
      },
      "source": [
        "## Feature vector creation\n",
        "The number of input columns changed a lot during the project. We wanted to test out different combinations of features to see what would help our model perform the best. Below is the final feature vector we chose. "
      ]
    },
    {
      "cell_type": "code",
      "metadata": {
        "colab": {
          "base_uri": "https://localhost:8080/"
        },
        "id": "OvvMuUHyh7Gc",
        "outputId": "142c5726-fcb8-4cf7-d05e-52f120319bfb"
      },
      "source": [
        "assembler = VectorAssembler(\n",
        "    inputCols=['shooter_to_hoop', 'nearest_def_dist', 'def_angle', 'actionVec', \"shot_typeVec\", \"zoneVec\", 'areaVec', 'pps'],\n",
        "    outputCol=\"features\")\n",
        "\n",
        "output = assembler.transform(encoded)\n",
        "output.select(\"features\", \"points\").show()"
      ],
      "execution_count": null,
      "outputs": [
        {
          "output_type": "stream",
          "text": [
            "+--------------------+------------------+\n",
            "|            features|            points|\n",
            "+--------------------+------------------+\n",
            "|(68,[0,1,2,4,57,6...|2.9171454381785877|\n",
            "|(68,[0,1,2,3,57,6...| 2.841540722379262|\n",
            "|(68,[0,1,2,3,57,6...|2.8841058757732494|\n",
            "|(68,[0,1,2,3,61,6...|2.9792234886239095|\n",
            "|(68,[0,1,2,7,57,6...| 2.993566816967534|\n",
            "|(68,[0,1,2,3,57,6...|3.0901280837822744|\n",
            "|(68,[0,1,2,3,57,6...|3.0752032322674414|\n",
            "|(68,[0,1,2,3,61,6...|  3.06853513172596|\n",
            "|(68,[0,1,2,3,66,6...|2.9743243150182197|\n",
            "|(68,[0,1,2,3,66,6...|3.0863425821985704|\n",
            "|(68,[0,1,2,3,57,6...|3.0107515913285496|\n",
            "|(68,[0,1,2,3,57,6...| 3.022331974086892|\n",
            "|(68,[0,1,2,4,57,6...|  3.04867859610513|\n",
            "|(68,[0,1,2,4,57,6...| 2.941830152073567|\n",
            "|(68,[0,1,2,3,57,6...|3.1932126050915532|\n",
            "|(68,[0,1,2,4,57,6...| 2.802005545836003|\n",
            "|(68,[0,1,2,3,57,6...|2.9134584667999586|\n",
            "|(68,[0,1,2,4,57,6...|  3.10001061890062|\n",
            "|(68,[0,1,2,3,57,6...|2.9865405580921087|\n",
            "|(68,[0,1,2,3,57,6...| 2.971716962641897|\n",
            "+--------------------+------------------+\n",
            "only showing top 20 rows\n",
            "\n"
          ],
          "name": "stdout"
        }
      ]
    },
    {
      "cell_type": "markdown",
      "metadata": {
        "id": "oJ8x9vopaWix"
      },
      "source": [
        "Use this dataset for regression"
      ]
    },
    {
      "cell_type": "code",
      "metadata": {
        "id": "CdyHUUfIn32C"
      },
      "source": [
        "final_data = output.select(\"features\",'points')"
      ],
      "execution_count": null,
      "outputs": []
    },
    {
      "cell_type": "markdown",
      "metadata": {
        "id": "sbsd3GdFaY6S"
      },
      "source": [
        "Use this dataset for classification"
      ]
    },
    {
      "cell_type": "code",
      "metadata": {
        "id": "C6IX800labzJ"
      },
      "source": [
        "final_datac=output.select(\"features\", \"shot_made_flag\")"
      ],
      "execution_count": null,
      "outputs": []
    },
    {
      "cell_type": "markdown",
      "metadata": {
        "id": "ZrQ_zUCXZtXW"
      },
      "source": [
        "## Scale data"
      ]
    },
    {
      "cell_type": "markdown",
      "metadata": {
        "id": "00GJ3qnnbaLb"
      },
      "source": [
        "Regression Data"
      ]
    },
    {
      "cell_type": "code",
      "metadata": {
        "id": "y1F2iNTlACJq"
      },
      "source": [
        "scaler = StandardScaler(inputCol=\"features\", outputCol=\"scaledFeatures\",\n",
        "                        withStd=True, withMean=False)\n",
        "\n",
        "scalerModel = scaler.fit(final_data)\n",
        "\n",
        "scaledData = scalerModel.transform(final_data)"
      ],
      "execution_count": null,
      "outputs": []
    },
    {
      "cell_type": "markdown",
      "metadata": {
        "id": "Q-WRyEZAbf57"
      },
      "source": [
        "Classification Data"
      ]
    },
    {
      "cell_type": "code",
      "metadata": {
        "id": "TvLCdztUbb_r"
      },
      "source": [
        "scaledData_class = scalerModel.transform(final_datac)"
      ],
      "execution_count": null,
      "outputs": []
    },
    {
      "cell_type": "markdown",
      "metadata": {
        "id": "YUoRS0vRaAZX"
      },
      "source": [
        "#Modeling\n",
        "\n",
        "This is where we split the problem into two type. We started by trying to predict points as a regression problem, but ended up treating it as a clasification problem, trying to predict makes and misses. "
      ]
    },
    {
      "cell_type": "markdown",
      "metadata": {
        "id": "F7mE_7l3bV-D"
      },
      "source": [
        "Regression Data"
      ]
    },
    {
      "cell_type": "code",
      "metadata": {
        "id": "aeSwe1WNp17c"
      },
      "source": [
        "train_data,test_data = scaledData.randomSplit([0.7,0.3])"
      ],
      "execution_count": null,
      "outputs": []
    },
    {
      "cell_type": "code",
      "metadata": {
        "id": "2lNLIq5zbYPi"
      },
      "source": [
        "train_datac,test_datac =scaledData_class.randomSplit([0.7,0.3])"
      ],
      "execution_count": null,
      "outputs": []
    },
    {
      "cell_type": "markdown",
      "metadata": {
        "id": "DM1uVKNVaDff"
      },
      "source": [
        "## Random Forest Regression"
      ]
    },
    {
      "cell_type": "code",
      "metadata": {
        "id": "axzC4v4XqXpY"
      },
      "source": [
        "rf = RandomForestRegressor(labelCol=\"points\", featuresCol=\"scaledFeatures\", maxDepth= 10, maxBins=32, numTrees=20)"
      ],
      "execution_count": null,
      "outputs": []
    },
    {
      "cell_type": "code",
      "metadata": {
        "id": "AH13v-iOEKMJ"
      },
      "source": [
        "model = rf.fit(train_data)"
      ],
      "execution_count": null,
      "outputs": []
    },
    {
      "cell_type": "code",
      "metadata": {
        "colab": {
          "base_uri": "https://localhost:8080/"
        },
        "id": "GbjY5R4GH0I9",
        "outputId": "84eb87c6-7ad8-41d9-9557-49d180f5b049"
      },
      "source": [
        "model.featureImportances"
      ],
      "execution_count": null,
      "outputs": [
        {
          "output_type": "execute_result",
          "data": {
            "text/plain": [
              "SparseVector(68, {0: 0.2087, 1: 0.0774, 2: 0.0436, 3: 0.0723, 4: 0.0072, 5: 0.0176, 6: 0.0009, 7: 0.0025, 8: 0.001, 9: 0.0022, 10: 0.0011, 11: 0.0012, 12: 0.0008, 13: 0.0004, 14: 0.0001, 15: 0.0011, 16: 0.0008, 17: 0.0008, 18: 0.0008, 19: 0.0007, 20: 0.0012, 21: 0.0001, 22: 0.0005, 23: 0.0002, 24: 0.0006, 25: 0.0018, 26: 0.0001, 27: 0.0004, 28: 0.0003, 29: 0.0001, 30: 0.0008, 32: 0.0002, 33: 0.0001, 34: 0.0001, 35: 0.0001, 36: 0.0001, 37: 0.0, 38: 0.0002, 39: 0.0004, 40: 0.0001, 41: 0.0001, 42: 0.0, 44: 0.0001, 45: 0.0, 46: 0.0, 47: 0.0, 56: 0.2646, 57: 0.0496, 58: 0.0914, 59: 0.0291, 60: 0.0183, 61: 0.0088, 62: 0.0115, 63: 0.0048, 64: 0.0046, 65: 0.0025, 66: 0.0027, 67: 0.0636})"
            ]
          },
          "metadata": {
            "tags": []
          },
          "execution_count": 126
        }
      ]
    },
    {
      "cell_type": "code",
      "metadata": {
        "id": "GhGekJciEX9C"
      },
      "source": [
        "predictions = model.transform(test_data)"
      ],
      "execution_count": null,
      "outputs": []
    },
    {
      "cell_type": "code",
      "metadata": {
        "colab": {
          "base_uri": "https://localhost:8080/"
        },
        "id": "eHxiUyw7FcVr",
        "outputId": "bc0e83a3-525a-4627-e581-17eea46bed99"
      },
      "source": [
        "predictions.select(\"prediction\", \"points\", \"scaledFeatures\").show(5)"
      ],
      "execution_count": null,
      "outputs": [
        {
          "output_type": "stream",
          "text": [
            "+------------------+------------------+--------------------+\n",
            "|        prediction|            points|            features|\n",
            "+------------------+------------------+--------------------+\n",
            "|0.7721095705492085|1.9916213188572816|(68,[0,1,2,3,56,5...|\n",
            "| 1.095095760516729|2.1032298149834117|(68,[0,1,2,3,56,5...|\n",
            "|0.8425035763823574|1.8872731849905853|(68,[0,1,2,3,56,5...|\n",
            "|1.0732231199704343|2.0351579800060065|(68,[0,1,2,3,56,5...|\n",
            "|1.0732231199704343|2.2073982069563947|(68,[0,1,2,3,56,5...|\n",
            "+------------------+------------------+--------------------+\n",
            "only showing top 5 rows\n",
            "\n"
          ],
          "name": "stdout"
        }
      ]
    },
    {
      "cell_type": "code",
      "metadata": {
        "colab": {
          "base_uri": "https://localhost:8080/"
        },
        "id": "BPFexq9uFgtz",
        "outputId": "51614ea8-eadb-4031-ea2d-d2bff93a84da"
      },
      "source": [
        "evaluator = RegressionEvaluator(\n",
        "    labelCol=\"points\", predictionCol=\"prediction\", metricName=\"rmse\")\n",
        "rmse = evaluator.evaluate(predictions)\n",
        "rmse"
      ],
      "execution_count": null,
      "outputs": [
        {
          "output_type": "execute_result",
          "data": {
            "text/plain": [
              "1.1062427118257836"
            ]
          },
          "metadata": {
            "tags": []
          },
          "execution_count": 129
        }
      ]
    },
    {
      "cell_type": "markdown",
      "metadata": {
        "id": "OMCcis3Va7dx"
      },
      "source": [
        "## Gradient Boosted Regression"
      ]
    },
    {
      "cell_type": "code",
      "metadata": {
        "id": "IHoQysR-HZxk"
      },
      "source": [
        "gbt = GBTRegressor(featuresCol=\"scaledFeatures\", labelCol='points', maxDepth=20)"
      ],
      "execution_count": null,
      "outputs": []
    },
    {
      "cell_type": "code",
      "metadata": {
        "id": "ov0C1Xk0IOYW"
      },
      "source": [
        "gb_model = gbt.fit(train_data)"
      ],
      "execution_count": null,
      "outputs": []
    },
    {
      "cell_type": "code",
      "metadata": {
        "colab": {
          "base_uri": "https://localhost:8080/"
        },
        "id": "_V7nBH3ZIT8d",
        "outputId": "060bd448-9b33-44a7-91a7-f5603a69347e"
      },
      "source": [
        "gb_model.featureImportances"
      ],
      "execution_count": null,
      "outputs": [
        {
          "output_type": "execute_result",
          "data": {
            "text/plain": [
              "SparseVector(68, {0: 0.191, 1: 0.1938, 2: 0.1883, 3: 0.0184, 4: 0.0056, 5: 0.0024, 6: 0.0014, 7: 0.003, 8: 0.0039, 9: 0.0012, 10: 0.0006, 11: 0.0025, 12: 0.0021, 13: 0.0006, 14: 0.0003, 15: 0.0015, 16: 0.0016, 17: 0.0017, 18: 0.0009, 19: 0.0003, 20: 0.0004, 21: 0.0004, 22: 0.0003, 23: 0.0003, 24: 0.0007, 25: 0.0004, 26: 0.0002, 27: 0.0012, 28: 0.0002, 29: 0.0002, 30: 0.0005, 31: 0.0002, 32: 0.0005, 33: 0.0003, 34: 0.0003, 35: 0.0001, 36: 0.0007, 37: 0.0003, 38: 0.0002, 39: 0.0001, 40: 0.0002, 41: 0.0002, 42: 0.0, 43: 0.0, 44: 0.0002, 45: 0.0001, 46: 0.0001, 47: 0.0001, 48: 0.0, 49: 0.0, 50: 0.0, 51: 0.0, 52: 0.0, 53: 0.0, 56: 0.0518, 57: 0.0046, 58: 0.005, 59: 0.0024, 60: 0.0018, 61: 0.0064, 62: 0.0195, 63: 0.0167, 64: 0.0129, 65: 0.0064, 66: 0.0115, 67: 0.2318})"
            ]
          },
          "metadata": {
            "tags": []
          },
          "execution_count": 132
        }
      ]
    },
    {
      "cell_type": "code",
      "metadata": {
        "id": "IMWz9ggSIXzC"
      },
      "source": [
        "predictions = gb_model.transform(test_data)"
      ],
      "execution_count": null,
      "outputs": []
    },
    {
      "cell_type": "code",
      "metadata": {
        "colab": {
          "base_uri": "https://localhost:8080/"
        },
        "id": "cPiMuK9WIbda",
        "outputId": "faff3bf6-7f4a-4e41-80d1-7edaf78f83f1"
      },
      "source": [
        "predictions.select(\"prediction\", \"points\", \"scaledFeatures\").show(5)"
      ],
      "execution_count": null,
      "outputs": [
        {
          "output_type": "stream",
          "text": [
            "+------------------+------------------+--------------------+\n",
            "|        prediction|            points|            features|\n",
            "+------------------+------------------+--------------------+\n",
            "|1.9487824392771063|1.9916213188572816|(68,[0,1,2,3,56,5...|\n",
            "|1.9770723838050472|2.1032298149834117|(68,[0,1,2,3,56,5...|\n",
            "| 2.208141202731295|1.8872731849905853|(68,[0,1,2,3,56,5...|\n",
            "| 2.052412277471519|2.0351579800060065|(68,[0,1,2,3,56,5...|\n",
            "| 2.052412277471519|2.2073982069563947|(68,[0,1,2,3,56,5...|\n",
            "+------------------+------------------+--------------------+\n",
            "only showing top 5 rows\n",
            "\n"
          ],
          "name": "stdout"
        }
      ]
    },
    {
      "cell_type": "code",
      "metadata": {
        "colab": {
          "base_uri": "https://localhost:8080/"
        },
        "id": "uSdzKLlyIfhk",
        "outputId": "a81b796a-a5dc-476f-8ed9-28566e907c12"
      },
      "source": [
        "evaluator = RegressionEvaluator(\n",
        "    labelCol=\"points\", predictionCol=\"prediction\", metricName=\"rmse\")\n",
        "rmse = evaluator.evaluate(predictions)\n",
        "rmse"
      ],
      "execution_count": null,
      "outputs": [
        {
          "output_type": "execute_result",
          "data": {
            "text/plain": [
              "1.0028549369281836"
            ]
          },
          "metadata": {
            "tags": []
          },
          "execution_count": 135
        }
      ]
    },
    {
      "cell_type": "markdown",
      "metadata": {
        "id": "Ucc0Qo2xbFaq"
      },
      "source": [
        "## Random Forest Classification"
      ]
    },
    {
      "cell_type": "code",
      "metadata": {
        "id": "kj0XuA8xIkKc"
      },
      "source": [
        "rfc = RandomForestClassifier(labelCol=\"shot_made_flag\", featuresCol=\"scaledFeatures\", maxDepth= 10, maxBins=32, numTrees=20)"
      ],
      "execution_count": null,
      "outputs": []
    },
    {
      "cell_type": "code",
      "metadata": {
        "id": "etzzx8Zl3QPd"
      },
      "source": [
        "rfc_model = rfc.fit(train_datac)"
      ],
      "execution_count": null,
      "outputs": []
    },
    {
      "cell_type": "code",
      "metadata": {
        "colab": {
          "base_uri": "https://localhost:8080/"
        },
        "id": "DT6DITnv3cDQ",
        "outputId": "7537382f-980a-438a-a9e3-6ae824f07d42"
      },
      "source": [
        "rfc_model.featureImportances"
      ],
      "execution_count": null,
      "outputs": [
        {
          "output_type": "execute_result",
          "data": {
            "text/plain": [
              "SparseVector(68, {0: 0.1851, 1: 0.0927, 2: 0.0281, 3: 0.1594, 4: 0.0168, 5: 0.0417, 6: 0.0021, 7: 0.0033, 8: 0.0038, 9: 0.0059, 10: 0.0094, 11: 0.0016, 12: 0.0074, 13: 0.0014, 14: 0.0043, 15: 0.002, 16: 0.0031, 17: 0.0018, 18: 0.0043, 19: 0.0022, 20: 0.0086, 21: 0.0008, 22: 0.0174, 23: 0.0012, 24: 0.0011, 25: 0.006, 26: 0.0003, 27: 0.0023, 28: 0.0006, 29: 0.0001, 30: 0.0003, 32: 0.0008, 33: 0.002, 34: 0.0013, 35: 0.0003, 37: 0.0003, 38: 0.0003, 39: 0.0001, 41: 0.0024, 42: 0.0001, 43: 0.0, 44: 0.0002, 45: 0.0002, 46: 0.0002, 47: 0.0, 50: 0.0, 56: 0.0858, 57: 0.0337, 58: 0.1114, 59: 0.0632, 60: 0.0346, 61: 0.0147, 62: 0.0025, 63: 0.018, 64: 0.0014, 65: 0.002, 66: 0.0081, 67: 0.0013})"
            ]
          },
          "metadata": {
            "tags": []
          },
          "execution_count": 86
        }
      ]
    },
    {
      "cell_type": "code",
      "metadata": {
        "id": "iKLD441c3-5p"
      },
      "source": [
        "predictions = rfc_model.transform(test_datac)"
      ],
      "execution_count": null,
      "outputs": []
    },
    {
      "cell_type": "code",
      "metadata": {
        "colab": {
          "base_uri": "https://localhost:8080/"
        },
        "id": "kjGo_gU54F6l",
        "outputId": "ff03b688-0a90-4c71-bdb0-9606d8b6c22f"
      },
      "source": [
        "predictions.select(\"prediction\", \"shot_made_flag\", \"scaledFeatures\").show(5)"
      ],
      "execution_count": null,
      "outputs": [
        {
          "output_type": "stream",
          "text": [
            "+----------+--------------+--------------------+\n",
            "|prediction|shot_made_flag|            features|\n",
            "+----------+--------------+--------------------+\n",
            "|       1.0|             1|(68,[0,1,2,3],[31...|\n",
            "|       1.0|             1|(68,[0,1,2,3],[31...|\n",
            "|       1.0|             1|(68,[0,1,2,3],[31...|\n",
            "|       1.0|             1|(68,[0,1,2,3],[31...|\n",
            "|       0.0|             1|(68,[0,1,2,3,56,5...|\n",
            "+----------+--------------+--------------------+\n",
            "only showing top 5 rows\n",
            "\n"
          ],
          "name": "stdout"
        }
      ]
    },
    {
      "cell_type": "code",
      "metadata": {
        "colab": {
          "base_uri": "https://localhost:8080/"
        },
        "id": "5TJm8gNY4H5L",
        "outputId": "108e311a-ed0d-4971-a2b0-d1ba6c3b1b39"
      },
      "source": [
        "from sklearn.metrics import confusion_matrix\n",
        "y_true = predictions.select(\"shot_made_flag\")\n",
        "y_true = y_true.toPandas()\n",
        "\n",
        "y_pred = predictions.select(\"prediction\")\n",
        "y_pred = y_pred.toPandas()\n",
        "\n",
        "cnf_matrix = confusion_matrix(y_true, y_pred)\n",
        "cnf_matrix"
      ],
      "execution_count": null,
      "outputs": [
        {
          "output_type": "execute_result",
          "data": {
            "text/plain": [
              "array([[ 1675,  5926],\n",
              "       [ 1020, 14237]])"
            ]
          },
          "metadata": {
            "tags": []
          },
          "execution_count": 89
        }
      ]
    },
    {
      "cell_type": "code",
      "metadata": {
        "id": "rlc2Y1dc8uPL"
      },
      "source": [
        "import seaborn as sn"
      ],
      "execution_count": null,
      "outputs": []
    },
    {
      "cell_type": "code",
      "metadata": {
        "colab": {
          "base_uri": "https://localhost:8080/",
          "height": 445
        },
        "id": "q2uAX-eL8PUc",
        "outputId": "9ace7b8c-dfe5-492d-bfa2-7283033914ab"
      },
      "source": [
        "df_cm = pd.DataFrame(cnf_matrix, index = [i for i in \"10\"],\n",
        "                  columns = [i for i in \"10\"])\n",
        "plt.figure(figsize = (10,7))\n",
        "sn.heatmap(df_cm, annot=True)"
      ],
      "execution_count": null,
      "outputs": [
        {
          "output_type": "execute_result",
          "data": {
            "text/plain": [
              "<matplotlib.axes._subplots.AxesSubplot at 0x7fd2c82aa3d0>"
            ]
          },
          "metadata": {
            "tags": []
          },
          "execution_count": 90
        },
        {
          "output_type": "display_data",
          "data": {
            "image/png": "[encoded data removed]",
            "text/plain": [
              "<Figure size 720x504 with 2 Axes>"
            ]
          },
          "metadata": {
            "tags": [],
            "needs_background": "light"
          }
        }
      ]
    }
  ]
}